{
 "cells": [
  {
   "cell_type": "markdown",
   "metadata": {
    "pycharm": {
     "metadata": false
    }
   },
   "source": [
    "# Klasyfikacja ręcznie pisanych cyfr za pomocą CNN oraz Gradient Boosting"
   ]
  },
  {
   "cell_type": "markdown",
   "metadata": {
    "pycharm": {
     "metadata": false,
     "name": "#%% md\n"
    }
   },
   "source": [
    "## Biblioteki oraz zestaw danych"
   ]
  },
  {
   "cell_type": "code",
   "execution_count": 3,
   "metadata": {
    "pycharm": {
     "is_executing": false,
     "name": "#%%\n"
    }
   },
   "outputs": [
    {
     "name": "stderr",
     "text": [
      "Using TensorFlow backend.\n"
     ],
     "output_type": "stream"
    }
   ],
   "source": [
    "from concurrent.futures import ProcessPoolExecutor, as_completed\n",
    "from itertools import tee\n",
    "%matplotlib inline\n",
    "import time\n",
    "import matplotlib.pyplot as plt                         # Wykresy\n",
    "import numpy as np                                      # Macierze i typy\n",
    "from sklearn import datasets                            # Wczytywanie zestawu danych\n",
    "from sklearn.ensemble import GradientBoostingClassifier # Algorytm gradient boosting\n",
    "from sklearn.metrics import classification_report       # Obliczanie błędu modelu\n",
    "from sklearn.utils import shuffle                       # Randomizowanie zestawu danych\n",
    "\n",
    "# biblioteki do CNN \n",
    "import tensorflow as tf\n",
    "import keras                                            \n",
    "from keras.utils import np_utils\n",
    "\n",
    "# wczytanie zestawu danych MNIST\n",
    "from keras.datasets import mnist\n",
    "\n",
    "# rodzaj modelu\n",
    "from keras.models import Sequential\n",
    "\n",
    "# warstwy sieci neuronowej\n",
    "from keras.layers import Conv2D, MaxPooling2D        \n",
    "from keras.layers import Flatten, Dense, Dropout"
   ]
  },
  {
   "cell_type": "markdown",
   "metadata": {},
   "source": [
    "## Wczytanie danych MNIST"
   ]
  },
  {
   "cell_type": "code",
   "execution_count": 4,
   "metadata": {
    "pycharm": {
     "is_executing": false
    }
   },
   "outputs": [],
   "source": [
    "digits = datasets.fetch_openml('mnist_784')"
   ]
  },
  {
   "cell_type": "code",
   "execution_count": 5,
   "metadata": {
    "pycharm": {
     "is_executing": false,
     "metadata": false,
     "name": "#%%\n"
    }
   },
   "outputs": [],
   "source": [
    "def pairwise(iterable):\n",
    "    \"\"\"s -> (s0,s1), (s1,s2), (s2, s3), ...\"\"\"\n",
    "    a, b = tee(iterable)\n",
    "    next(b, None)\n",
    "    return zip(a, b)"
   ]
  },
  {
   "cell_type": "markdown",
   "metadata": {},
   "source": [
    "## Analiza danych"
   ]
  },
  {
   "cell_type": "code",
   "execution_count": 4,
   "metadata": {
    "pycharm": {
     "is_executing": false,
     "metadata": false,
     "name": "#%%\n"
    },
    "scrolled": true
   },
   "outputs": [
    {
     "name": "stdout",
     "text": [
      "Zbiór danych składa się z 70000 instancji.\n"
     ],
     "output_type": "stream"
    }
   ],
   "source": [
    "print(\"Zbiór danych składa się z\", digits.data.shape[0], \"instancji.\")"
   ]
  },
  {
   "cell_type": "code",
   "execution_count": 32,
   "metadata": {
    "pycharm": {
     "is_executing": false
    }
   },
   "outputs": [
    {
     "traceback": [
      "\u001b[0;31m---------------------------------------------------------------------------\u001b[0m",
      "\u001b[0;31mKeyboardInterrupt\u001b[0m                         Traceback (most recent call last)",
      "\u001b[0;32m<ipython-input-32-9e080c8b0a6b>\u001b[0m in \u001b[0;36m<module>\u001b[0;34m\u001b[0m\n\u001b[1;32m      3\u001b[0m \u001b[0mplt\u001b[0m\u001b[0;34m.\u001b[0m\u001b[0mxlabel\u001b[0m\u001b[0;34m(\u001b[0m\u001b[0;34m\"Klasa\"\u001b[0m\u001b[0;34m)\u001b[0m\u001b[0;34m\u001b[0m\u001b[0;34m\u001b[0m\u001b[0m\n\u001b[1;32m      4\u001b[0m \u001b[0mplt\u001b[0m\u001b[0;34m.\u001b[0m\u001b[0mylabel\u001b[0m\u001b[0;34m(\u001b[0m\u001b[0;34m\"Ilość instancji\"\u001b[0m\u001b[0;34m)\u001b[0m\u001b[0;34m\u001b[0m\u001b[0;34m\u001b[0m\u001b[0m\n\u001b[0;32m----> 5\u001b[0;31m \u001b[0mplt\u001b[0m\u001b[0;34m.\u001b[0m\u001b[0mhist\u001b[0m\u001b[0;34m(\u001b[0m\u001b[0mdigits\u001b[0m\u001b[0;34m.\u001b[0m\u001b[0mtarget\u001b[0m\u001b[0;34m)\u001b[0m\u001b[0;34m;\u001b[0m\u001b[0;34m\u001b[0m\u001b[0;34m\u001b[0m\u001b[0m\n\u001b[0m",
      "\u001b[0;32m<ipython-input-32-9e080c8b0a6b>\u001b[0m in \u001b[0;36m<module>\u001b[0;34m\u001b[0m\n\u001b[1;32m      3\u001b[0m \u001b[0mplt\u001b[0m\u001b[0;34m.\u001b[0m\u001b[0mxlabel\u001b[0m\u001b[0;34m(\u001b[0m\u001b[0;34m\"Klasa\"\u001b[0m\u001b[0;34m)\u001b[0m\u001b[0;34m\u001b[0m\u001b[0;34m\u001b[0m\u001b[0m\n\u001b[1;32m      4\u001b[0m \u001b[0mplt\u001b[0m\u001b[0;34m.\u001b[0m\u001b[0mylabel\u001b[0m\u001b[0;34m(\u001b[0m\u001b[0;34m\"Ilość instancji\"\u001b[0m\u001b[0;34m)\u001b[0m\u001b[0;34m\u001b[0m\u001b[0;34m\u001b[0m\u001b[0m\n\u001b[0;32m----> 5\u001b[0;31m \u001b[0mplt\u001b[0m\u001b[0;34m.\u001b[0m\u001b[0mhist\u001b[0m\u001b[0;34m(\u001b[0m\u001b[0mdigits\u001b[0m\u001b[0;34m.\u001b[0m\u001b[0mtarget\u001b[0m\u001b[0;34m)\u001b[0m\u001b[0;34m;\u001b[0m\u001b[0;34m\u001b[0m\u001b[0;34m\u001b[0m\u001b[0m\n\u001b[0m",
      "\u001b[0;32m~/.local/share/JetBrains/Toolbox/apps/PyCharm-P/ch-0/191.7141.48/helpers/pydev/_pydevd_bundle/pydevd_frame.py\u001b[0m in \u001b[0;36mtrace_dispatch\u001b[0;34m(self, frame, event, arg)\u001b[0m\n\u001b[1;32m    629\u001b[0m                 \u001b[0;31m# if thread has a suspend flag, we suspend with a busy wait\u001b[0m\u001b[0;34m\u001b[0m\u001b[0;34m\u001b[0m\u001b[0;34m\u001b[0m\u001b[0m\n\u001b[1;32m    630\u001b[0m                 \u001b[0;32mif\u001b[0m \u001b[0minfo\u001b[0m\u001b[0;34m.\u001b[0m\u001b[0mpydev_state\u001b[0m \u001b[0;34m==\u001b[0m \u001b[0mSTATE_SUSPEND\u001b[0m\u001b[0;34m:\u001b[0m\u001b[0;34m\u001b[0m\u001b[0;34m\u001b[0m\u001b[0m\n\u001b[0;32m--> 631\u001b[0;31m                     \u001b[0mself\u001b[0m\u001b[0;34m.\u001b[0m\u001b[0mdo_wait_suspend\u001b[0m\u001b[0;34m(\u001b[0m\u001b[0mthread\u001b[0m\u001b[0;34m,\u001b[0m \u001b[0mframe\u001b[0m\u001b[0;34m,\u001b[0m \u001b[0mevent\u001b[0m\u001b[0;34m,\u001b[0m \u001b[0marg\u001b[0m\u001b[0;34m)\u001b[0m\u001b[0;34m\u001b[0m\u001b[0;34m\u001b[0m\u001b[0m\n\u001b[0m\u001b[1;32m    632\u001b[0m                     \u001b[0;32mreturn\u001b[0m \u001b[0mself\u001b[0m\u001b[0;34m.\u001b[0m\u001b[0mtrace_dispatch\u001b[0m\u001b[0;34m\u001b[0m\u001b[0;34m\u001b[0m\u001b[0m\n\u001b[1;32m    633\u001b[0m                 \u001b[0;32melse\u001b[0m\u001b[0;34m:\u001b[0m\u001b[0;34m\u001b[0m\u001b[0;34m\u001b[0m\u001b[0m\n",
      "\u001b[0;32m~/.local/share/JetBrains/Toolbox/apps/PyCharm-P/ch-0/191.7141.48/helpers/pydev/_pydevd_bundle/pydevd_frame.py\u001b[0m in \u001b[0;36mdo_wait_suspend\u001b[0;34m(self, *args, **kwargs)\u001b[0m\n\u001b[1;32m    123\u001b[0m \u001b[0;34m\u001b[0m\u001b[0m\n\u001b[1;32m    124\u001b[0m     \u001b[0;32mdef\u001b[0m \u001b[0mdo_wait_suspend\u001b[0m\u001b[0;34m(\u001b[0m\u001b[0mself\u001b[0m\u001b[0;34m,\u001b[0m \u001b[0;34m*\u001b[0m\u001b[0margs\u001b[0m\u001b[0;34m,\u001b[0m \u001b[0;34m**\u001b[0m\u001b[0mkwargs\u001b[0m\u001b[0;34m)\u001b[0m\u001b[0;34m:\u001b[0m\u001b[0;34m\u001b[0m\u001b[0;34m\u001b[0m\u001b[0m\n\u001b[0;32m--> 125\u001b[0;31m         \u001b[0mself\u001b[0m\u001b[0;34m.\u001b[0m\u001b[0m_args\u001b[0m\u001b[0;34m[\u001b[0m\u001b[0;36m0\u001b[0m\u001b[0;34m]\u001b[0m\u001b[0;34m.\u001b[0m\u001b[0mdo_wait_suspend\u001b[0m\u001b[0;34m(\u001b[0m\u001b[0;34m*\u001b[0m\u001b[0margs\u001b[0m\u001b[0;34m,\u001b[0m \u001b[0;34m**\u001b[0m\u001b[0mkwargs\u001b[0m\u001b[0;34m)\u001b[0m\u001b[0;34m\u001b[0m\u001b[0;34m\u001b[0m\u001b[0m\n\u001b[0m\u001b[1;32m    126\u001b[0m \u001b[0;34m\u001b[0m\u001b[0m\n\u001b[1;32m    127\u001b[0m     \u001b[0;31m# IFDEF CYTHON\u001b[0m\u001b[0;34m\u001b[0m\u001b[0;34m\u001b[0m\u001b[0;34m\u001b[0m\u001b[0m\n",
      "\u001b[0;32m~/.local/share/JetBrains/Toolbox/apps/PyCharm-P/ch-0/191.7141.48/helpers/pydev/pydevd.py\u001b[0m in \u001b[0;36mdo_wait_suspend\u001b[0;34m(self, thread, frame, event, arg, suspend_type, send_suspend_message)\u001b[0m\n\u001b[1;32m    887\u001b[0m \u001b[0;34m\u001b[0m\u001b[0m\n\u001b[1;32m    888\u001b[0m             \u001b[0mself\u001b[0m\u001b[0;34m.\u001b[0m\u001b[0mprocess_internal_commands\u001b[0m\u001b[0;34m(\u001b[0m\u001b[0;34m)\u001b[0m\u001b[0;34m\u001b[0m\u001b[0;34m\u001b[0m\u001b[0m\n\u001b[0;32m--> 889\u001b[0;31m             \u001b[0mtime\u001b[0m\u001b[0;34m.\u001b[0m\u001b[0msleep\u001b[0m\u001b[0;34m(\u001b[0m\u001b[0;36m0.01\u001b[0m\u001b[0;34m)\u001b[0m\u001b[0;34m\u001b[0m\u001b[0;34m\u001b[0m\u001b[0m\n\u001b[0m\u001b[1;32m    890\u001b[0m \u001b[0;34m\u001b[0m\u001b[0m\n\u001b[1;32m    891\u001b[0m         \u001b[0mself\u001b[0m\u001b[0;34m.\u001b[0m\u001b[0mcancel_async_evaluation\u001b[0m\u001b[0;34m(\u001b[0m\u001b[0mget_thread_id\u001b[0m\u001b[0;34m(\u001b[0m\u001b[0mthread\u001b[0m\u001b[0;34m)\u001b[0m\u001b[0;34m,\u001b[0m \u001b[0mstr\u001b[0m\u001b[0;34m(\u001b[0m\u001b[0mid\u001b[0m\u001b[0;34m(\u001b[0m\u001b[0mframe\u001b[0m\u001b[0;34m)\u001b[0m\u001b[0;34m)\u001b[0m\u001b[0;34m)\u001b[0m\u001b[0;34m\u001b[0m\u001b[0;34m\u001b[0m\u001b[0m\n",
      "\u001b[0;31mKeyboardInterrupt\u001b[0m: "
     ],
     "ename": "KeyboardInterrupt",
     "evalue": "",
     "output_type": "error"
    },
    {
     "data": {
      "text/plain": "<Figure size 432x288 with 1 Axes>",
      "image/png": "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\n"
     },
     "metadata": {
      "needs_background": "light"
     },
     "output_type": "display_data"
    }
   ],
   "source": [
    "(classes, elements) = np.unique(digits.target, return_counts=True) # wykrycie ilosci elementow danej klasy\n",
    "plt.title(\"Ilość instancji każdej klasy\")\n",
    "plt.xlabel(\"Klasa\")\n",
    "plt.ylabel(\"Ilość instancji\")\n",
    "plt.hist(digits.target);"
   ]
  },
  {
   "cell_type": "code",
   "execution_count": 6,
   "metadata": {
    "pycharm": {
     "is_executing": false,
     "metadata": false,
     "name": "#%%\n"
    }
   },
   "outputs": [
    {
     "name": "stdout",
     "text": [
      "Każda instancja posiada 784 cechy.\n"
     ],
     "output_type": "stream"
    }
   ],
   "source": [
    "print(\"Każda instancja posiada\", digits.data.shape[1], \"cechy.\")"
   ]
  },
  {
   "cell_type": "markdown",
   "metadata": {},
   "source": [
    "Zestaw danych składa się z obrazów 28 x 28 px, przedstawiających ręcznie pisane cyfry. Poniżej zaprezentowana jest pierwsza instancja zestawu."
   ]
  },
  {
   "cell_type": "code",
   "execution_count": 8,
   "metadata": {
    "pycharm": {
     "is_executing": false
    }
   },
   "outputs": [
    {
     "data": {
      "text/plain": "<Figure size 432x288 with 1 Axes>",
      "image/png": "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\n"
     },
     "metadata": {
      "needs_background": "light"
     },
     "output_type": "display_data"
    }
   ],
   "source": [
    "plt.title(digits.target[0])\n",
    "_ = plt.imshow(np.reshape(digits.data[0], (28, 28)), cmap='gray')"
   ]
  },
  {
   "cell_type": "markdown",
   "metadata": {
    "pycharm": {
     "metadata": false,
     "name": "#%% md\n"
    }
   },
   "source": [
    "Wg, żródła[^1], większość ludzi preferuje oglądać obrazy rozmazane zamiast obrazów w małej rozdzielczości.\n",
    "W związku z tym, od tego momentu przy wyświetlaniu obrazów posłużymy się interpolacją.\n",
    "\n",
    "[^1]: https://matplotlib.org/users/image_tutorial.html "
   ]
  },
  {
   "cell_type": "code",
   "execution_count": 9,
   "metadata": {
    "pycharm": {
     "is_executing": false,
     "metadata": false,
     "name": "#%%\n"
    }
   },
   "outputs": [
    {
     "data": {
      "text/plain": "<Figure size 432x288 with 1 Axes>",
      "image/png": "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\n"
     },
     "metadata": {
      "needs_background": "light"
     },
     "output_type": "display_data"
    }
   ],
   "source": [
    "plt.title(digits.target[0])\n",
    "_ = plt.imshow(np.reshape(digits.data[0], (28, 28)), cmap='gray', interpolation='bicubic')"
   ]
  },
  {
   "cell_type": "markdown",
   "metadata": {
    "pycharm": {
     "metadata": false,
     "name": "#%% md\n"
    }
   },
   "source": [
    "Aby zapoznać czytelnika z zestawem danych, poniżej prezentujemy jeszcze kilka instancji różnych klas."
   ]
  },
  {
   "cell_type": "code",
   "execution_count": 10,
   "metadata": {
    "pycharm": {
     "is_executing": false,
     "metadata": false,
     "name": "#%%\n"
    }
   },
   "outputs": [
    {
     "data": {
      "text/plain": "<Figure size 432x288 with 10 Axes>",
      "image/png": "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\n"
     },
     "metadata": {
      "needs_background": "light"
     },
     "output_type": "display_data"
    }
   ],
   "source": [
    "for idx in range(0, 10):\n",
    "    instance_no = 10 + idx\n",
    "    plt.subplot(2, 5, 1 + idx)\n",
    "    plt.title(digits.target[instance_no])\n",
    "    _ = plt.imshow(np.reshape(digits.data[instance_no], (28, 28)), cmap='gray', interpolation='bicubic')"
   ]
  },
  {
   "cell_type": "markdown",
   "metadata": {},
   "source": [
    "# Konwolucyjna sieć neuronowa"
   ]
  },
  {
   "cell_type": "markdown",
   "metadata": {},
   "source": [
    "## Przygotowanie danych do uczenia"
   ]
  },
  {
   "cell_type": "markdown",
   "metadata": {},
   "source": [
    "Przed przystąpieniem do uczenia sieci neuronowej należało dokonać kilku przekształceń danych."
   ]
  },
  {
   "cell_type": "code",
   "execution_count": 11,
   "metadata": {
    "pycharm": {
     "is_executing": false
    }
   },
   "outputs": [],
   "source": [
    "# przeksztalcenie danych tak, aby byly przystepne dla modelu\n",
    "# kolejne liczby: 70000 - rozmiar zb. uczacego, 28x28 - wymiary obrazka, 1 - obraz w skali szarosci\n",
    "cnn_dataset = digits \n",
    "cnn_dataset.data = np.reshape(cnn_dataset.data, (70000, 28, 28, 1))  "
   ]
  },
  {
   "cell_type": "code",
   "execution_count": 12,
   "metadata": {
    "pycharm": {
     "is_executing": false
    }
   },
   "outputs": [],
   "source": [
    "# konwersja do typu 32-bitowego w celu zmniejszenia wymagan pamieciowych\n",
    "cnn_dataset.data = cnn_dataset.data.astype('float32')  "
   ]
  },
  {
   "cell_type": "code",
   "execution_count": 13,
   "metadata": {
    "pycharm": {
     "is_executing": false
    }
   },
   "outputs": [],
   "source": [
    "# normalizacja pikseli obrazkow\n",
    "cnn_dataset.data /= 255"
   ]
  },
  {
   "cell_type": "code",
   "execution_count": 14,
   "metadata": {
    "pycharm": {
     "is_executing": false
    }
   },
   "outputs": [
    {
     "name": "stdout",
     "text": [
      "Training set:  (70000, 28, 28, 1)\nTraining labels:  (70000, 10)\nExample instance of an encoded label:  [0. 0. 0. 0. 0. 1. 0. 0. 0. 0.]\n"
     ],
     "output_type": "stream"
    }
   ],
   "source": [
    "# podzial zbiorow etykiet klas na kategorie, zakodowanie kazdej kategorii za pomoca kodu '1 z N'\n",
    "cnn_dataset.target = np_utils.to_categorical(cnn_dataset.target, 10) \n",
    "\n",
    "# wyswietlenie nowych rozmiarow przykladowych \n",
    "print('Training set: ', cnn_dataset.data.shape)\n",
    "print('Training labels: ', cnn_dataset.target.shape)\n",
    "print('Example instance of an encoded label: ', cnn_dataset.target[0])"
   ]
  },
  {
   "cell_type": "markdown",
   "metadata": {},
   "source": [
    "## Budowa modelu"
   ]
  },
  {
   "cell_type": "code",
   "execution_count": 15,
   "metadata": {
    "pycharm": {
     "is_executing": false
    }
   },
   "outputs": [],
   "source": [
    "def build_CNN():\n",
    "\n",
    "    # model sekwencyjny, mozliwosc latwego 'stackowania' kolejnych warstw\n",
    "    model = Sequential()\n",
    "    \n",
    "    # pierwsza warstwa splotowa\n",
    "    model.add(Conv2D(32,kernel_size=5,activation='relu',input_shape=(28,28,1)))\n",
    "    \n",
    "    # pierwsza warstwa agregacyjna\n",
    "    model.add(MaxPooling2D(pool_size=(2, 2)))\n",
    "    \n",
    "    # zastosowanie wykluczenia 0.4 w celu zapobiegania przetrenowaniu\n",
    "    model.add(Dropout(0.4))\n",
    "    \n",
    "    # druga warstwa splotowa\n",
    "    model.add(Conv2D(64,kernel_size=5,activation='relu'))\n",
    "    \n",
    "    # druga warstwa agregacyjna\n",
    "    model.add(MaxPooling2D(pool_size=(2, 2)))\n",
    "    \n",
    "    # wykluczenie 0.4\n",
    "    model.add(Dropout(0.4))\n",
    "    \n",
    "    # splaszczenie \n",
    "    model.add(Flatten())\n",
    "    \n",
    "    # warstwa ukryta\n",
    "    model.add(Dense(128, activation='relu'))\n",
    "    \n",
    "    # wykluczenie 0.4 \n",
    "    model.add(Dropout(0.4))\n",
    "    \n",
    "    # warstwa wyjsciowa - 10 neuronow \n",
    "    model.add(Dense(10, activation='softmax'))\n",
    "    \n",
    "    # kompilacja modelu, zdefiniowanie funkcji kosztu jako entropia krzyzowa\n",
    "    model.compile(optimizer='adam', loss='categorical_crossentropy', metrics=['accuracy'])\n",
    "\n",
    "    return model"
   ]
  },
  {
   "cell_type": "markdown",
   "metadata": {},
   "source": [
    "## Utworzenie modelu"
   ]
  },
  {
   "cell_type": "code",
   "execution_count": 16,
   "metadata": {
    "pycharm": {
     "is_executing": false
    }
   },
   "outputs": [
    {
     "name": "stdout",
     "text": [
      "WARNING:tensorflow:From /usr/lib/python3.7/site-packages/tensorflow/python/framework/op_def_library.py:263: colocate_with (from tensorflow.python.framework.ops) is deprecated and will be removed in a future version.\nInstructions for updating:\nColocations handled automatically by placer.\n",
      "WARNING:tensorflow:From /usr/lib/python3.7/site-packages/keras/backend/tensorflow_backend.py:3445: calling dropout (from tensorflow.python.ops.nn_ops) with keep_prob is deprecated and will be removed in a future version.\nInstructions for updating:\nPlease use `rate` instead of `keep_prob`. Rate should be set to `rate = 1 - keep_prob`.\n",
      "_________________________________________________________________\nLayer (type)                 Output Shape              Param #   \n=================================================================\nconv2d_1 (Conv2D)            (None, 24, 24, 32)        832       \n_________________________________________________________________\nmax_pooling2d_1 (MaxPooling2 (None, 12, 12, 32)        0         \n_________________________________________________________________\ndropout_1 (Dropout)          (None, 12, 12, 32)        0         \n_________________________________________________________________\nconv2d_2 (Conv2D)            (None, 8, 8, 64)          51264     \n_________________________________________________________________\nmax_pooling2d_2 (MaxPooling2 (None, 4, 4, 64)          0         \n_________________________________________________________________\ndropout_2 (Dropout)          (None, 4, 4, 64)          0         \n_________________________________________________________________\nflatten_1 (Flatten)          (None, 1024)              0         \n_________________________________________________________________\ndense_1 (Dense)              (None, 128)               131200    \n_________________________________________________________________\ndropout_3 (Dropout)          (None, 128)               0         \n_________________________________________________________________\ndense_2 (Dense)              (None, 10)                1290      \n=================================================================\nTotal params: 184,586\nTrainable params: 184,586\nNon-trainable params: 0\n_________________________________________________________________\nNone\n"
     ],
     "output_type": "stream"
    }
   ],
   "source": [
    "model = build_CNN() # utworzenie modelu \n",
    "print(model.summary()) # wyswietlenie informacji o modelu"
   ]
  },
  {
   "cell_type": "markdown",
   "metadata": {},
   "source": [
    "## Uczenie sieci"
   ]
  },
  {
   "cell_type": "code",
   "execution_count": 17,
   "metadata": {
    "pycharm": {
     "is_executing": false
    }
   },
   "outputs": [
    {
     "name": "stdout",
     "text": [
      "T 0\nWARNING:tensorflow:From /usr/lib/python3.7/site-packages/tensorflow/python/ops/math_ops.py:3066: to_int32 (from tensorflow.python.ops.math_ops) is deprecated and will be removed in a future version.\nInstructions for updating:\nUse tf.cast instead.\n",
      "\n\n\nT 1\n",
      "\n\n\nT 2\n",
      "\n\n\nT 3\n",
      "\n\n\nT 4\n",
      "\n\n\nT 5\n",
      "\n\n\nT 6\n",
      "\n\n\nT 7\n",
      "\n\n\nT 8\n"
     ],
     "output_type": "stream"
    },
    {
     "traceback": [
      "\u001b[0;31m---------------------------------------------------------------------------\u001b[0m",
      "\u001b[0;31mKeyboardInterrupt\u001b[0m                         Traceback (most recent call last)",
      "\u001b[0;32m<ipython-input-17-22f053dba5b7>\u001b[0m in \u001b[0;36m<module>\u001b[0;34m\u001b[0m\n\u001b[1;32m     17\u001b[0m                    \u001b[0mepochs\u001b[0m \u001b[0;34m=\u001b[0m \u001b[0;36m1\u001b[0m\u001b[0;34m,\u001b[0m\u001b[0;34m\u001b[0m\u001b[0;34m\u001b[0m\u001b[0m\n\u001b[1;32m     18\u001b[0m                    \u001b[0mbatch_size\u001b[0m \u001b[0;34m=\u001b[0m \u001b[0;36m128\u001b[0m\u001b[0;34m,\u001b[0m\u001b[0;34m\u001b[0m\u001b[0;34m\u001b[0m\u001b[0m\n\u001b[0;32m---> 19\u001b[0;31m                    verbose = 0)\n\u001b[0m\u001b[1;32m     20\u001b[0m \u001b[0;34m\u001b[0m\u001b[0m\n\u001b[1;32m     21\u001b[0m     \u001b[0mloss_results\u001b[0m\u001b[0;34m.\u001b[0m\u001b[0mappend\u001b[0m\u001b[0;34m(\u001b[0m\u001b[0mnp\u001b[0m\u001b[0;34m.\u001b[0m\u001b[0mmean\u001b[0m\u001b[0;34m(\u001b[0m\u001b[0mresult\u001b[0m\u001b[0;34m.\u001b[0m\u001b[0mhistory\u001b[0m\u001b[0;34m[\u001b[0m\u001b[0;34m'loss'\u001b[0m\u001b[0;34m]\u001b[0m\u001b[0;34m)\u001b[0m\u001b[0;34m)\u001b[0m\u001b[0;34m\u001b[0m\u001b[0;34m\u001b[0m\u001b[0m\n",
      "\u001b[0;32m/usr/lib/python3.7/site-packages/keras/engine/training.py\u001b[0m in \u001b[0;36mfit\u001b[0;34m(self, x, y, batch_size, epochs, verbose, callbacks, validation_split, validation_data, shuffle, class_weight, sample_weight, initial_epoch, steps_per_epoch, validation_steps, **kwargs)\u001b[0m\n\u001b[1;32m   1037\u001b[0m                                         \u001b[0minitial_epoch\u001b[0m\u001b[0;34m=\u001b[0m\u001b[0minitial_epoch\u001b[0m\u001b[0;34m,\u001b[0m\u001b[0;34m\u001b[0m\u001b[0;34m\u001b[0m\u001b[0m\n\u001b[1;32m   1038\u001b[0m                                         \u001b[0msteps_per_epoch\u001b[0m\u001b[0;34m=\u001b[0m\u001b[0msteps_per_epoch\u001b[0m\u001b[0;34m,\u001b[0m\u001b[0;34m\u001b[0m\u001b[0;34m\u001b[0m\u001b[0m\n\u001b[0;32m-> 1039\u001b[0;31m                                         validation_steps=validation_steps)\n\u001b[0m\u001b[1;32m   1040\u001b[0m \u001b[0;34m\u001b[0m\u001b[0m\n\u001b[1;32m   1041\u001b[0m     def evaluate(self, x=None, y=None,\n",
      "\u001b[0;32m/usr/lib/python3.7/site-packages/keras/engine/training_arrays.py\u001b[0m in \u001b[0;36mfit_loop\u001b[0;34m(model, f, ins, out_labels, batch_size, epochs, verbose, callbacks, val_f, val_ins, shuffle, callback_metrics, initial_epoch, steps_per_epoch, validation_steps)\u001b[0m\n\u001b[1;32m    197\u001b[0m                     \u001b[0mins_batch\u001b[0m\u001b[0;34m[\u001b[0m\u001b[0mi\u001b[0m\u001b[0;34m]\u001b[0m \u001b[0;34m=\u001b[0m \u001b[0mins_batch\u001b[0m\u001b[0;34m[\u001b[0m\u001b[0mi\u001b[0m\u001b[0;34m]\u001b[0m\u001b[0;34m.\u001b[0m\u001b[0mtoarray\u001b[0m\u001b[0;34m(\u001b[0m\u001b[0;34m)\u001b[0m\u001b[0;34m\u001b[0m\u001b[0;34m\u001b[0m\u001b[0m\n\u001b[1;32m    198\u001b[0m \u001b[0;34m\u001b[0m\u001b[0m\n\u001b[0;32m--> 199\u001b[0;31m                 \u001b[0mouts\u001b[0m \u001b[0;34m=\u001b[0m \u001b[0mf\u001b[0m\u001b[0;34m(\u001b[0m\u001b[0mins_batch\u001b[0m\u001b[0;34m)\u001b[0m\u001b[0;34m\u001b[0m\u001b[0;34m\u001b[0m\u001b[0m\n\u001b[0m\u001b[1;32m    200\u001b[0m                 \u001b[0mouts\u001b[0m \u001b[0;34m=\u001b[0m \u001b[0mto_list\u001b[0m\u001b[0;34m(\u001b[0m\u001b[0mouts\u001b[0m\u001b[0;34m)\u001b[0m\u001b[0;34m\u001b[0m\u001b[0;34m\u001b[0m\u001b[0m\n\u001b[1;32m    201\u001b[0m                 \u001b[0;32mfor\u001b[0m \u001b[0ml\u001b[0m\u001b[0;34m,\u001b[0m \u001b[0mo\u001b[0m \u001b[0;32min\u001b[0m \u001b[0mzip\u001b[0m\u001b[0;34m(\u001b[0m\u001b[0mout_labels\u001b[0m\u001b[0;34m,\u001b[0m \u001b[0mouts\u001b[0m\u001b[0;34m)\u001b[0m\u001b[0;34m:\u001b[0m\u001b[0;34m\u001b[0m\u001b[0;34m\u001b[0m\u001b[0m\n",
      "\u001b[0;32m/usr/lib/python3.7/site-packages/keras/backend/tensorflow_backend.py\u001b[0m in \u001b[0;36m__call__\u001b[0;34m(self, inputs)\u001b[0m\n\u001b[1;32m   2713\u001b[0m                 \u001b[0;32mreturn\u001b[0m \u001b[0mself\u001b[0m\u001b[0;34m.\u001b[0m\u001b[0m_legacy_call\u001b[0m\u001b[0;34m(\u001b[0m\u001b[0minputs\u001b[0m\u001b[0;34m)\u001b[0m\u001b[0;34m\u001b[0m\u001b[0;34m\u001b[0m\u001b[0m\n\u001b[1;32m   2714\u001b[0m \u001b[0;34m\u001b[0m\u001b[0m\n\u001b[0;32m-> 2715\u001b[0;31m             \u001b[0;32mreturn\u001b[0m \u001b[0mself\u001b[0m\u001b[0;34m.\u001b[0m\u001b[0m_call\u001b[0m\u001b[0;34m(\u001b[0m\u001b[0minputs\u001b[0m\u001b[0;34m)\u001b[0m\u001b[0;34m\u001b[0m\u001b[0;34m\u001b[0m\u001b[0m\n\u001b[0m\u001b[1;32m   2716\u001b[0m         \u001b[0;32melse\u001b[0m\u001b[0;34m:\u001b[0m\u001b[0;34m\u001b[0m\u001b[0;34m\u001b[0m\u001b[0m\n\u001b[1;32m   2717\u001b[0m             \u001b[0;32mif\u001b[0m \u001b[0mpy_any\u001b[0m\u001b[0;34m(\u001b[0m\u001b[0mis_tensor\u001b[0m\u001b[0;34m(\u001b[0m\u001b[0mx\u001b[0m\u001b[0;34m)\u001b[0m \u001b[0;32mfor\u001b[0m \u001b[0mx\u001b[0m \u001b[0;32min\u001b[0m \u001b[0minputs\u001b[0m\u001b[0;34m)\u001b[0m\u001b[0;34m:\u001b[0m\u001b[0;34m\u001b[0m\u001b[0;34m\u001b[0m\u001b[0m\n",
      "\u001b[0;32m/usr/lib/python3.7/site-packages/keras/backend/tensorflow_backend.py\u001b[0m in \u001b[0;36m_call\u001b[0;34m(self, inputs)\u001b[0m\n\u001b[1;32m   2673\u001b[0m             \u001b[0mfetched\u001b[0m \u001b[0;34m=\u001b[0m \u001b[0mself\u001b[0m\u001b[0;34m.\u001b[0m\u001b[0m_callable_fn\u001b[0m\u001b[0;34m(\u001b[0m\u001b[0;34m*\u001b[0m\u001b[0marray_vals\u001b[0m\u001b[0;34m,\u001b[0m \u001b[0mrun_metadata\u001b[0m\u001b[0;34m=\u001b[0m\u001b[0mself\u001b[0m\u001b[0;34m.\u001b[0m\u001b[0mrun_metadata\u001b[0m\u001b[0;34m)\u001b[0m\u001b[0;34m\u001b[0m\u001b[0;34m\u001b[0m\u001b[0m\n\u001b[1;32m   2674\u001b[0m         \u001b[0;32melse\u001b[0m\u001b[0;34m:\u001b[0m\u001b[0;34m\u001b[0m\u001b[0;34m\u001b[0m\u001b[0m\n\u001b[0;32m-> 2675\u001b[0;31m             \u001b[0mfetched\u001b[0m \u001b[0;34m=\u001b[0m \u001b[0mself\u001b[0m\u001b[0;34m.\u001b[0m\u001b[0m_callable_fn\u001b[0m\u001b[0;34m(\u001b[0m\u001b[0;34m*\u001b[0m\u001b[0marray_vals\u001b[0m\u001b[0;34m)\u001b[0m\u001b[0;34m\u001b[0m\u001b[0;34m\u001b[0m\u001b[0m\n\u001b[0m\u001b[1;32m   2676\u001b[0m         \u001b[0;32mreturn\u001b[0m \u001b[0mfetched\u001b[0m\u001b[0;34m[\u001b[0m\u001b[0;34m:\u001b[0m\u001b[0mlen\u001b[0m\u001b[0;34m(\u001b[0m\u001b[0mself\u001b[0m\u001b[0;34m.\u001b[0m\u001b[0moutputs\u001b[0m\u001b[0;34m)\u001b[0m\u001b[0;34m]\u001b[0m\u001b[0;34m\u001b[0m\u001b[0;34m\u001b[0m\u001b[0m\n\u001b[1;32m   2677\u001b[0m \u001b[0;34m\u001b[0m\u001b[0m\n",
      "\u001b[0;32m/usr/lib/python3.7/site-packages/tensorflow/python/client/session.py\u001b[0m in \u001b[0;36m__call__\u001b[0;34m(self, *args, **kwargs)\u001b[0m\n\u001b[1;32m   1437\u001b[0m           ret = tf_session.TF_SessionRunCallable(\n\u001b[1;32m   1438\u001b[0m               \u001b[0mself\u001b[0m\u001b[0;34m.\u001b[0m\u001b[0m_session\u001b[0m\u001b[0;34m.\u001b[0m\u001b[0m_session\u001b[0m\u001b[0;34m,\u001b[0m \u001b[0mself\u001b[0m\u001b[0;34m.\u001b[0m\u001b[0m_handle\u001b[0m\u001b[0;34m,\u001b[0m \u001b[0margs\u001b[0m\u001b[0;34m,\u001b[0m \u001b[0mstatus\u001b[0m\u001b[0;34m,\u001b[0m\u001b[0;34m\u001b[0m\u001b[0;34m\u001b[0m\u001b[0m\n\u001b[0;32m-> 1439\u001b[0;31m               run_metadata_ptr)\n\u001b[0m\u001b[1;32m   1440\u001b[0m         \u001b[0;32mif\u001b[0m \u001b[0mrun_metadata\u001b[0m\u001b[0;34m:\u001b[0m\u001b[0;34m\u001b[0m\u001b[0;34m\u001b[0m\u001b[0m\n\u001b[1;32m   1441\u001b[0m           \u001b[0mproto_data\u001b[0m \u001b[0;34m=\u001b[0m \u001b[0mtf_session\u001b[0m\u001b[0;34m.\u001b[0m\u001b[0mTF_GetBuffer\u001b[0m\u001b[0;34m(\u001b[0m\u001b[0mrun_metadata_ptr\u001b[0m\u001b[0;34m)\u001b[0m\u001b[0;34m\u001b[0m\u001b[0;34m\u001b[0m\u001b[0m\n",
      "\u001b[0;31mKeyboardInterrupt\u001b[0m: "
     ],
     "ename": "KeyboardInterrupt",
     "evalue": "",
     "output_type": "error"
    }
   ],
   "source": [
    "# losowe przetasowanie zestawu danych\n",
    "x, y = shuffle(cnn_dataset.data, cnn_dataset.target, random_state=13)\n",
    "\n",
    "# podzial zbioru danych na k rownych czesci\n",
    "k = 10\n",
    "split_points = np.linspace(0, cnn_dataset.data.shape[0], k + 1, dtype=int)\n",
    "x_subsets = [x[start:end] for start, end in pairwise(split_points)]\n",
    "y_subsets = [y[start:end] for start, end in pairwise(split_points)]\n",
    "\n",
    "# k-krotna walidacja krzyzowa\n",
    "loss_results = []\n",
    "acc_results = []\n",
    "for idx in range(0,k):\n",
    "    print('T', idx)\n",
    "    result = model.fit(\n",
    "                   np.concatenate(x_subsets[:idx] + x_subsets[idx+1:]),\n",
    "                   np.concatenate(y_subsets[:idx] + y_subsets[idx+1:]),\n",
    "                   epochs = 1,\n",
    "                   batch_size = 128,\n",
    "                   verbose = 0)\n",
    "    \n",
<<<<<<< HEAD
    "    loss_results.append(np.mean(result.history['loss'])) # mean dodana jakby ktos chcial manipulowac liczba epok\n",
    "    acc_results.append(np.mean(result.history['acc']))\n",
    "    print('\\n')\n",
=======
    "    loss_results.append(np.mean(result.history['loss']))\n",
    "    print('\\n\\n')\n",
>>>>>>> 15d54f9891db0617dc126ebc555d2933272cfc25
    "    \n",
    "    "
   ]
  },
  {
   "cell_type": "code",
   "execution_count": 20,
   "metadata": {},
   "outputs": [
    {
     "name": "stdout",
     "output_type": "stream",
     "text": [
      "[0.016490746221283364, 0.01706839092799032, 0.017822945088987047, 0.017369091914257125, 0.016000689368635888, 0.017438454516209838, 0.014573931625118434, 0.016977100550204457, 0.015283424677977723, 0.01604165021055526]\n"
     ]
    }
   ],
   "source": [
    "print(loss_results)"
   ]
  },
  {
   "cell_type": "code",
   "execution_count": 23,
   "metadata": {},
   "outputs": [
    {
     "name": "stdout",
     "output_type": "stream",
     "text": [
      "WARNING:tensorflow:From /home/robert/.local/lib/python3.6/site-packages/tensorflow/python/ops/math_ops.py:3066: to_int32 (from tensorflow.python.ops.math_ops) is deprecated and will be removed in a future version.\n",
      "Instructions for updating:\n",
      "Use tf.cast instead.\n",
      "Epoch 1/5\n",
      "70000/70000 [==============================] - 48s 684us/step - loss: 0.3063 - acc: 0.9021\n",
      "Epoch 2/5\n",
      "70000/70000 [==============================] - 45s 637us/step - loss: 0.0906 - acc: 0.9723\n",
      "Epoch 3/5\n",
      "70000/70000 [==============================] - 44s 631us/step - loss: 0.0727 - acc: 0.9778\n",
      "Epoch 4/5\n",
      "70000/70000 [==============================] - 44s 634us/step - loss: 0.0611 - acc: 0.9815\n",
      "Epoch 5/5\n",
      "70000/70000 [==============================] - 50s 717us/step - loss: 0.0531 - acc: 0.9830\n"
     ]
    }
   ],
   "source": [
<<<<<<< HEAD
    "plt.plot(datasets, loss_results, 'go-', label='Training loss')\n",
    "plt.legend()\n",
    "plt.title('Average loss on i-th dataset')\n",
    "plt.xlabel('dataset')\n",
    "plt.ylabel('Loss')\n",
    "plt.grid()"
=======
    "# powtorzenie uczenia na calym zbiorze\n",
    "result = model.fit(cnn_dataset.data, cnn_dataset.target,\n",
    "                   epochs = 5,\n",
    "                   batch_size = 128,\n",
    "                   verbose = 1)"
   ]
  },
  {
   "cell_type": "markdown",
   "metadata": {},
   "source": [
    "## Ewaluacja modelu"
>>>>>>> 15d54f9891db0617dc126ebc555d2933272cfc25
   ]
  },
  {
   "cell_type": "code",
   "execution_count": null,
   "metadata": {},
   "outputs": [],
   "source": [
    "plt.plot(datasets, acc_results, 'go-', label='Training accuracy')\n",
    "plt.legend()\n",
    "plt.title('Average accuracy on i-th dataset')\n",
    "plt.xlabel('dataset')\n",
    "plt.ylabel('Accuracy')\n",
    "plt.grid()"
   ]
  },
  {
   "cell_type": "code",
   "execution_count": 22,
   "metadata": {},
   "outputs": [
    {
     "name": "stdout",
     "output_type": "stream",
     "text": [
      "Loss of the model:  0.016506642510121947\n"
     ]
    }
   ],
   "source": [
    "loss = 1/k * sum(loss_results)\n",
    "print('Loss of the model: ', loss)"
   ]
  },
  {
   "cell_type": "markdown",
   "metadata": {},
   "source": [
    "## Prezentacja graficzna wyników"
   ]
  },
  {
   "cell_type": "code",
   "execution_count": 24,
   "metadata": {},
   "outputs": [],
   "source": [
    "history = result.history\n",
    "train_acc = history['acc']\n",
    "train_loss = history['loss']\n",
    "\n",
    "epochs = range(1, len(train_acc)+1)"
   ]
  },
  {
   "cell_type": "code",
   "execution_count": 25,
   "metadata": {},
   "outputs": [
    {
     "data": {
      "image/png": "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\n",
      "text/plain": [
       "<Figure size 432x288 with 1 Axes>"
      ]
     },
     "metadata": {
      "needs_background": "light"
     },
     "output_type": "display_data"
    }
   ],
   "source": [
    "plt.plot(epochs, train_acc, 'go-', label='Training accuracy')\n",
    "plt.plot(epochs, train_loss, 'r+-', label='Training loss')\n",
    "plt.legend()\n",
    "plt.title('Training loss vs accuracy')\n",
    "plt.xlabel('epochs')\n",
    "plt.ylabel('Loss/Accuracy')\n",
    "plt.grid()"
   ]
  },
  {
   "cell_type": "markdown",
   "metadata": {},
   "source": [
    "## Ewaluacja modelu"
   ]
  },
  {
   "cell_type": "code",
   "execution_count": 73,
   "metadata": {},
   "outputs": [
    {
     "name": "stdout",
     "output_type": "stream",
     "text": [
      "10000/10000 [==============================] - 4s 364us/step\n",
      "Test loss: 0.018475261675527144\n",
      "Test accuracy: 0.9944\n"
     ]
    }
   ],
   "source": [
    "score = model.evaluate(test_img, test_labels, verbose=1)\n",
    "print('Test loss:', score[0])\n",
    "print('Test accuracy:', score[1])"
   ]
  },
  {
   "cell_type": "markdown",
   "metadata": {},
   "source": [
    "## Pojedyncze rozpoznanie "
   ]
  },
  {
   "cell_type": "code",
   "execution_count": 27,
   "metadata": {},
   "outputs": [
    {
     "name": "stdout",
     "output_type": "stream",
     "text": [
      "Classified digit: 8\n"
     ]
    },
    {
     "data": {
      "image/png": "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\n",
      "text/plain": [
       "<Figure size 432x288 with 1 Axes>"
      ]
     },
     "metadata": {
      "needs_background": "light"
     },
     "output_type": "display_data"
    }
   ],
   "source": [
    "sample = 7777\n",
    "plt.imshow(np.reshape(cnn_dataset.data[sample], (28,28)), cmap='gray')\n",
    "pred = model.predict(np.reshape(cnn_dataset.data[sample], (1, 28, 28, 1)))\n",
    "print('Classified digit:', pred.argmax())"
   ]
  },
  {
   "cell_type": "markdown",
   "metadata": {},
   "source": [
    "# Drzewo decyzyjne"
   ]
  },
  {
   "cell_type": "markdown",
   "metadata": {
    "pycharm": {
     "metadata": false,
     "name": "#%% md\n"
    }
   },
   "source": [
    "## Przygotowanie danych do procesu uczenia\n",
    "\n",
    "Przygotowanie danych do procesu uczenia rozpoczęliśmy od randomizacji zestawu."
   ]
  },
  {
   "cell_type": "code",
<<<<<<< HEAD
   "execution_count": 11,
=======
   "execution_count": 35,
>>>>>>> 15d54f9891db0617dc126ebc555d2933272cfc25
   "metadata": {
    "pycharm": {
     "is_executing": false,
     "metadata": false,
     "name": "#%%\n"
    }
   },
   "outputs": [],
   "source": [
    "x, y = shuffle(digits.data, digits.target, random_state=13)"
   ]
  },
  {
   "cell_type": "markdown",
   "metadata": {
    "pycharm": {
     "metadata": false,
     "name": "#%% md\n"
    }
   },
   "source": [
    "Aby podczas procesu walidacji modelu dokonać k-krotnej walidacji krzyżowej, podzieliliśmy zestaw na k podzbiorów."
   ]
  },
  {
   "cell_type": "code",
<<<<<<< HEAD
   "execution_count": 12,
=======
   "execution_count": 44,
>>>>>>> 15d54f9891db0617dc126ebc555d2933272cfc25
   "metadata": {
    "pycharm": {
     "is_executing": false,
     "metadata": false,
     "name": "#%%\n"
    }
   },
   "outputs": [],
   "source": [
    "k = 10\n",
    "\n",
    "split_points = np.linspace(0, x.shape[0], k + 1, dtype=int)\n",
    "\n",
    "x_subsets = [x[start:end] for start, end in pairwise(split_points)]\n",
    "y_subsets = [y[start:end] for start, end in pairwise(split_points)]"
   ]
  },
  {
   "cell_type": "markdown",
   "metadata": {
    "pycharm": {
     "metadata": false,
     "name": "#%% md\n"
    }
   },
   "source": [
    "## Budowanie modelu"
   ]
  },
  {
   "cell_type": "code",
<<<<<<< HEAD
   "execution_count": null,
=======
   "execution_count": 42,
>>>>>>> 15d54f9891db0617dc126ebc555d2933272cfc25
   "metadata": {
    "pycharm": {
     "is_executing": false,
     "metadata": false,
     "name": "#%%\n"
    }
   },
   "outputs": [
    {
     "name": "stdout",
     "text": [
      "Avg. fit time: 18.60 s\n"
     ],
     "output_type": "stream"
    }
   ],
   "source": [
    "classifiers = [None] * k\n",
<<<<<<< HEAD
    "\n",
    "with ProcessPoolExecutor() as executor:\n",
    "    def fit(idx):\n",
    "        classifier = GradientBoostingClassifier()\n",
=======
    "with ProcessPoolExecutor() as executor:\n",
    "    def fit(idx):\n",
    "        classifier = GradientBoostingClassifier(n_estimators=5)\n",
    "        start = time.time()\n",
>>>>>>> 15d54f9891db0617dc126ebc555d2933272cfc25
    "        classifier.fit(\n",
    "            np.concatenate(x_subsets[:idx] + x_subsets[idx+1:]),\n",
    "            np.concatenate(y_subsets[:idx] + y_subsets[idx+1:]),\n",
    "        )\n",
    "        return classifier, (time.time() - start)\n",
    "    \n",
    "    future_to_classifier = {executor.submit(fit, idx): idx for idx in range(k)}\n",
    "    \n",
    "    fit_time_sum = 0\n",
    "    for future in as_completed(future_to_classifier):\n",
    "        idx = future_to_classifier[future]\n",
    "        classifiers[idx], fit_time = future.result()\n",
    "        fit_time_sum += fit_time\n",
    "print(\"Avg. fit time: {:.2f} s\".format(fit_time_sum / k))"
   ]
  },
  {
   "cell_type": "markdown",
   "metadata": {
    "pycharm": {
     "metadata": false,
     "name": "#%% md\n"
    }
   },
   "source": [
    "### Ewaluacja modelu"
   ]
  },
  {
   "cell_type": "code",
   "execution_count": 43,
   "metadata": {
    "pycharm": {
     "is_executing": false,
     "metadata": false,
     "name": "#%%\n"
    }
   },
   "outputs": [
    {
     "name": "stdout",
     "text": [
      "              precision    recall  f1-score   support\n\n           0       0.74      0.86      0.80      6903\n           1       0.72      0.88      0.80      7877\n           2       0.74      0.56      0.64      6990\n           3       0.61      0.69      0.65      7141\n           4       0.65      0.75      0.70      6824\n           5       0.55      0.51      0.53      6313\n           6       0.88      0.73      0.80      6876\n           7       0.87      0.66      0.75      7293\n           8       0.61      0.65      0.63      6825\n           9       0.66      0.65      0.65      6958\n\n   micro avg       0.70      0.70      0.70     70000\n   macro avg       0.70      0.69      0.69     70000\nweighted avg       0.71      0.70      0.70     70000\n\n"
     ],
     "output_type": "stream"
    }
   ],
   "source": [
    "y_true = y\n",
    "y_pred = np.concatenate([classifier.predict(x_test) for classifier, x_test in zip(classifiers, x_subsets)])\n",
    "print(classification_report(y_true, y_pred))"
   ]
  },
  {
   "cell_type": "markdown",
   "metadata": {
    "pycharm": {
     "metadata": false,
     "name": "#%% md\n"
    }
   },
   "source": [
    "## Podsumowanie\n",
    "Podczas wykonywania projektu mogliśmy przeprowadzić klasyfikację ręcznie pisanych cyfr korzystając z dwóch różnych klasyfikatorów. Podczas testowania działania tworzonych modeli doszliśmy do wniosku, że konwolucyjna sieć neuronowa sprawdza się lepiej w tego typu zadaniach. Wyniki testów popierają to stwierdzenie jasno pokazując, że sieć neuronowa osiąga lepsze wyniki. Praca i uczenie sieci również przebiega szybciej niż uczenie drzewa decyzyjnego."
   ]
  }
 ],
 "metadata": {
  "kernelspec": {
   "display_name": "Python 3",
   "language": "python",
   "name": "python3"
  },
  "language_info": {
   "codemirror_mode": {
    "name": "ipython",
    "version": 3
   },
   "file_extension": ".py",
   "mimetype": "text/x-python",
   "name": "python",
   "nbconvert_exporter": "python",
   "pygments_lexer": "ipython3",
   "version": "3.6.7"
  },
  "stem_cell": {
   "cell_type": "raw",
   "metadata": {
    "pycharm": {
     "metadata": false
    }
   },
   "source": ""
  },
  "pycharm": {
   "stem_cell": {
    "cell_type": "raw",
    "source": [],
    "metadata": {
     "collapsed": false
    }
   }
  }
 },
 "nbformat": 4,
 "nbformat_minor": 1
}