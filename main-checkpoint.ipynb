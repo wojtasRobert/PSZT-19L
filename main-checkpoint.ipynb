{
 "cells": [
  {
   "cell_type": "markdown",
   "metadata": {
    "pycharm": {
     "metadata": false
    }
   },
   "source": [
    "# Klasyfikacja ręcznie pisanych cyfr za pomocą CNN oraz Gradient Boosting"
   ]
  },
  {
   "cell_type": "markdown",
   "metadata": {
    "pycharm": {
     "metadata": false,
     "name": "#%% md\n"
    }
   },
   "source": [
    "## Biblioteki oraz zestaw danych"
   ]
  },
  {
   "cell_type": "code",
   "execution_count": 2,
   "metadata": {
    "pycharm": {
     "is_executing": false,
     "name": "#%%\n"
    }
   },
   "outputs": [],
   "source": [
    "from concurrent.futures import ProcessPoolExecutor, as_completed\n",
    "from itertools import tee\n",
    "%matplotlib inline\n",
    "import time\n",
    "import matplotlib.pyplot as plt                         # Wykresy\n",
    "import numpy as np                                      # Macierze i typy\n",
    "from sklearn import datasets                            # Wczytywanie zestawu danych\n",
    "from sklearn.ensemble import GradientBoostingClassifier # Algorytm gradient boosting\n",
    "from sklearn.metrics import classification_report       # Obliczanie błędu modelu\n",
    "from sklearn.utils import shuffle                       # Randomizowanie zestawu danych\n",
    "\n",
    "# biblioteki do CNN \n",
    "import tensorflow as tf\n",
    "import keras                                            \n",
    "from keras.utils import np_utils\n",
    "\n",
    "# wczytanie zestawu danych MNIST\n",
    "from keras.datasets import mnist\n",
    "\n",
    "# rodzaj modelu\n",
    "from keras.models import Sequential\n",
    "\n",
    "# warstwy sieci neuronowej\n",
    "from keras.layers import Conv2D, MaxPooling2D        \n",
    "from keras.layers import Flatten, Dense, Dropout"
   ]
  },
  {
   "cell_type": "markdown",
   "metadata": {},
   "source": [
    "## Wczytanie danych MNIST"
   ]
  },
  {
   "cell_type": "code",
   "execution_count": 3,
   "metadata": {},
   "outputs": [],
   "source": [
    "digits = datasets.fetch_openml('mnist_784')"
   ]
  },
  {
   "cell_type": "code",
   "execution_count": 4,
   "metadata": {
    "pycharm": {
     "is_executing": false,
     "metadata": false,
     "name": "#%%\n"
    }
   },
   "outputs": [],
   "source": [
    "def pairwise(iterable):\n",
    "    \"\"\"s -> (s0,s1), (s1,s2), (s2, s3), ...\"\"\"\n",
    "    a, b = tee(iterable)\n",
    "    next(b, None)\n",
    "    return zip(a, b)"
   ]
  },
  {
   "cell_type": "markdown",
   "metadata": {},
   "source": [
    "## Analiza danych"
   ]
  },
  {
   "cell_type": "code",
   "execution_count": 4,
   "metadata": {
    "pycharm": {
     "is_executing": false,
     "metadata": false,
     "name": "#%%\n"
    },
    "scrolled": true
   },
   "outputs": [
    {
     "name": "stdout",
     "output_type": "stream",
     "text": [
      "Zbiór danych składa się z 70000 instancji.\n"
     ]
    }
   ],
   "source": [
    "print(\"Zbiór danych składa się z\", digits.data.shape[0], \"instancji.\")"
   ]
  },
  {
   "cell_type": "code",
   "execution_count": 5,
   "metadata": {},
   "outputs": [
    {
     "data": {
      "image/png": "[encoded data removed]",
      "text/plain": [
       "<Figure size 432x288 with 1 Axes>"
      ]
     },
     "metadata": {
      "needs_background": "light"
     },
     "output_type": "display_data"
    }
   ],
   "source": [
    "(classes, elements) = np.unique(digits.target, return_counts=True) # wykrycie ilosci elementow danej klasy\n",
    "plt.title(\"Ilość instancji każdej klasy\")\n",
    "plt.xlabel(\"Klasa\")\n",
    "plt.ylabel(\"Ilość instancji\")\n",
    "_ = plt.bar(classes, elements)"
   ]
  },
  {
   "cell_type": "code",
   "execution_count": 6,
   "metadata": {
    "pycharm": {
     "is_executing": false,
     "metadata": false,
     "name": "#%%\n"
    }
   },
   "outputs": [
    {
     "name": "stdout",
     "output_type": "stream",
     "text": [
      "Każda instancja posiada 784 cechy.\n"
     ]
    }
   ],
   "source": [
    "print(\"Każda instancja posiada\", digits.data.shape[1], \"cechy.\")"
   ]
  },
  {
   "cell_type": "markdown",
   "metadata": {},
   "source": [
    "Zestaw danych składa się z obrazów 28 x 28 px, przedstawiających ręcznie pisane cyfry. Poniżej zaprezentowana jest pierwsza instancja zestawu."
   ]
  },
  {
   "cell_type": "code",
   "execution_count": 7,
   "metadata": {},
   "outputs": [
    {
     "data": {
      "image/png": "[encoded data removed]",
      "text/plain": [
       "<Figure size 432x288 with 1 Axes>"
      ]
     },
     "metadata": {
      "needs_background": "light"
     },
     "output_type": "display_data"
    }
   ],
   "source": [
    "plt.title(digits.target[0])\n",
    "_ = plt.imshow(np.reshape(digits.data[0], (28, 28)), cmap='gray')"
   ]
  },
  {
   "cell_type": "markdown",
   "metadata": {
    "pycharm": {
     "metadata": false,
     "name": "#%% md\n"
    }
   },
   "source": [
    "Wg, żródła[^1], większość ludzi preferuje oglądać obrazy rozmazane zamiast obrazów w małej rozdzielczości.\n",
    "W związku z tym, od tego momentu przy wyświetlaniu obrazów posłużymy się interpolacją.\n",
    "\n",
    "[^1]: https://matplotlib.org/users/image_tutorial.html "
   ]
  },
  {
   "cell_type": "code",
   "execution_count": 8,
   "metadata": {
    "pycharm": {
     "is_executing": false,
     "metadata": false,
     "name": "#%%\n"
    }
   },
   "outputs": [
    {
     "data": {
      "image/png": "[encoded data removed]",
      "text/plain": [
       "<Figure size 432x288 with 1 Axes>"
      ]
     },
     "metadata": {
      "needs_background": "light"
     },
     "output_type": "display_data"
    }
   ],
   "source": [
    "plt.title(digits.target[0])\n",
    "_ = plt.imshow(np.reshape(digits.data[0], (28, 28)), cmap='gray', interpolation='bicubic')"
   ]
  },
  {
   "cell_type": "markdown",
   "metadata": {
    "pycharm": {
     "metadata": false,
     "name": "#%% md\n"
    }
   },
   "source": [
    "Aby zapoznać czytelnika z zestawem danych, poniżej prezentujemy jeszcze kilka instancji różnych klas."
   ]
  },
  {
   "cell_type": "code",
   "execution_count": 9,
   "metadata": {
    "pycharm": {
     "is_executing": false,
     "metadata": false,
     "name": "#%%\n"
    }
   },
   "outputs": [
    {
     "data": {
      "image/png": "[encoded data removed]",
      "text/plain": [
       "<Figure size 432x288 with 10 Axes>"
      ]
     },
     "metadata": {
      "needs_background": "light"
     },
     "output_type": "display_data"
    }
   ],
   "source": [
    "for idx in range(0, 10):\n",
    "    instance_no = 10 + idx\n",
    "    plt.subplot(2, 5, 1 + idx)\n",
    "    plt.title(digits.target[instance_no])\n",
    "    _ = plt.imshow(np.reshape(digits.data[instance_no], (28, 28)), cmap='gray', interpolation='bicubic')"
   ]
  },
  {
   "cell_type": "markdown",
   "metadata": {},
   "source": [
    "# Konwolucyjna sieć neuronowa"
   ]
  },
  {
   "cell_type": "markdown",
   "metadata": {},
   "source": [
    "## Przygotowanie danych do uczenia"
   ]
  },
  {
   "cell_type": "markdown",
   "metadata": {},
   "source": [
    "Przed przystąpieniem do uczenia sieci neuronowej należało dokonać kilku przekształceń danych."
   ]
  },
  {
   "cell_type": "code",
   "execution_count": 10,
   "metadata": {},
   "outputs": [],
   "source": [
    "# przeksztalcenie danych tak, aby byly przystepne dla modelu\n",
    "# kolejne liczby: 70000 - rozmiar zb. uczacego, 28x28 - wymiary obrazka, 1 - obraz w skali szarosci\n",
    "cnn_dataset = digits \n",
    "cnn_dataset.data = np.reshape(cnn_dataset.data, (70000, 28, 28, 1))  "
   ]
  },
  {
   "cell_type": "code",
   "execution_count": 11,
   "metadata": {},
   "outputs": [],
   "source": [
    "# konwersja do typu 32-bitowego w celu zmniejszenia wymagan pamieciowych\n",
    "cnn_dataset.data = cnn_dataset.data.astype('float32')  "
   ]
  },
  {
   "cell_type": "code",
   "execution_count": 12,
   "metadata": {},
   "outputs": [],
   "source": [
    "# normalizacja pikseli obrazkow\n",
    "cnn_dataset.data /= 255"
   ]
  },
  {
   "cell_type": "code",
   "execution_count": 13,
   "metadata": {},
   "outputs": [
    {
     "name": "stdout",
     "output_type": "stream",
     "text": [
      "Training set:  (70000, 28, 28, 1)\n",
      "Training labels:  (70000, 10)\n",
      "Example instance of an encoded label:  [0. 0. 0. 0. 0. 1. 0. 0. 0. 0.]\n"
     ]
    }
   ],
   "source": [
    "# podzial zbiorow etykiet klas na kategorie, zakodowanie kazdej kategorii za pomoca kodu '1 z N'\n",
    "cnn_dataset.target = np_utils.to_categorical(cnn_dataset.target, 10) \n",
    "\n",
    "# wyswietlenie nowych rozmiarow przykladowych \n",
    "print('Training set: ', cnn_dataset.data.shape)\n",
    "print('Training labels: ', cnn_dataset.target.shape)\n",
    "print('Example instance of an encoded label: ', cnn_dataset.target[0])"
   ]
  },
  {
   "cell_type": "markdown",
   "metadata": {},
   "source": [
    "## Budowa modelu"
   ]
  },
  {
   "cell_type": "code",
   "execution_count": 18,
   "metadata": {},
   "outputs": [],
   "source": [
    "def build_CNN():\n",
    "\n",
    "    # model sekwencyjny, mozliwosc latwego 'stackowania' kolejnych warstw\n",
    "    model = Sequential()\n",
    "    \n",
    "    # pierwsza warstwa splotowa\n",
    "    model.add(Conv2D(32,kernel_size=5,activation='relu',input_shape=(28,28,1)))\n",
    "    \n",
    "    # pierwsza warstwa agregacyjna\n",
    "    model.add(MaxPooling2D(pool_size=(2, 2)))\n",
    "    \n",
    "    # zastosowanie wykluczenia 0.4 w celu zapobiegania przetrenowaniu\n",
    "    model.add(Dropout(0.4))\n",
    "    \n",
    "    # druga warstwa splotowa\n",
    "    model.add(Conv2D(64,kernel_size=5,activation='relu'))\n",
    "    \n",
    "    # druga warstwa agregacyjna\n",
    "    model.add(MaxPooling2D(pool_size=(2, 2)))\n",
    "    \n",
    "    # wykluczenie 0.4\n",
    "    model.add(Dropout(0.4))\n",
    "    \n",
    "    # splaszczenie \n",
    "    model.add(Flatten())\n",
    "    \n",
    "    # warstwa ukryta\n",
    "    model.add(Dense(128, activation='relu'))\n",
    "    \n",
    "    # wykluczenie 0.4 \n",
    "    model.add(Dropout(0.4))\n",
    "    \n",
    "    # warstwa wyjsciowa - 10 neuronow \n",
    "    model.add(Dense(10, activation='softmax'))\n",
    "    \n",
    "    # kompilacja modelu, zdefiniowanie funkcji kosztu jako entropia krzyzowa\n",
    "    model.compile(optimizer='adam', loss='categorical_crossentropy', metrics=['accuracy'])\n",
    "\n",
    "    return model"
   ]
  },
  {
   "cell_type": "markdown",
   "metadata": {},
   "source": [
    "## Utworzenie modelu"
   ]
  },
  {
   "cell_type": "code",
   "execution_count": 19,
   "metadata": {},
   "outputs": [
    {
     "name": "stdout",
     "output_type": "stream",
     "text": [
      "_________________________________________________________________\n",
      "Layer (type)                 Output Shape              Param #   \n",
      "=================================================================\n",
      "conv2d_5 (Conv2D)            (None, 24, 24, 32)        832       \n",
      "_________________________________________________________________\n",
      "max_pooling2d_5 (MaxPooling2 (None, 12, 12, 32)        0         \n",
      "_________________________________________________________________\n",
      "dropout_7 (Dropout)          (None, 12, 12, 32)        0         \n",
      "_________________________________________________________________\n",
      "conv2d_6 (Conv2D)            (None, 8, 8, 64)          51264     \n",
      "_________________________________________________________________\n",
      "max_pooling2d_6 (MaxPooling2 (None, 4, 4, 64)          0         \n",
      "_________________________________________________________________\n",
      "dropout_8 (Dropout)          (None, 4, 4, 64)          0         \n",
      "_________________________________________________________________\n",
      "flatten_3 (Flatten)          (None, 1024)              0         \n",
      "_________________________________________________________________\n",
      "dense_5 (Dense)              (None, 128)               131200    \n",
      "_________________________________________________________________\n",
      "dropout_9 (Dropout)          (None, 128)               0         \n",
      "_________________________________________________________________\n",
      "dense_6 (Dense)              (None, 10)                1290      \n",
      "=================================================================\n",
      "Total params: 184,586\n",
      "Trainable params: 184,586\n",
      "Non-trainable params: 0\n",
      "_________________________________________________________________\n",
      "None\n"
     ]
    }
   ],
   "source": [
    "model = build_CNN() # utworzenie modelu \n",
    "print(model.summary()) # wyswietlenie informacji o modelu"
   ]
  },
  {
   "cell_type": "markdown",
   "metadata": {},
   "source": [
    "## Uczenie sieci"
   ]
  },
  {
   "cell_type": "code",
   "execution_count": 20,
   "metadata": {},
   "outputs": [
    {
     "name": "stdout",
     "output_type": "stream",
     "text": [
      "T 0\n",
      "Epoch 1/1\n",
      "63000/63000 [==============================] - 41s 656us/step - loss: 0.3297 - acc: 0.8945\n",
      "\n",
      "\n",
      "T 1\n",
      "Epoch 1/1\n",
      "63000/63000 [==============================] - 39s 619us/step - loss: 0.1011 - acc: 0.9689\n",
      "\n",
      "\n",
      "T 2\n",
      "Epoch 1/1\n",
      "63000/63000 [==============================] - 40s 636us/step - loss: 0.0781 - acc: 0.9761\n",
      "\n",
      "\n",
      "T 3\n",
      "Epoch 1/1\n",
      "63000/63000 [==============================] - 39s 619us/step - loss: 0.0619 - acc: 0.9807\n",
      "\n",
      "\n",
      "T 4\n",
      "Epoch 1/1\n",
      "63000/63000 [==============================] - 50s 788us/step - loss: 0.0590 - acc: 0.9820\n",
      "\n",
      "\n",
      "T 5\n",
      "Epoch 1/1\n",
      "63000/63000 [==============================] - 50s 794us/step - loss: 0.0517 - acc: 0.9844\n",
      "\n",
      "\n",
      "T 6\n",
      "Epoch 1/1\n",
      "63000/63000 [==============================] - 49s 775us/step - loss: 0.0474 - acc: 0.9854\n",
      "\n",
      "\n",
      "T 7\n",
      "Epoch 1/1\n",
      "63000/63000 [==============================] - 47s 752us/step - loss: 0.0438 - acc: 0.9866\n",
      "\n",
      "\n",
      "T 8\n",
      "Epoch 1/1\n",
      "63000/63000 [==============================] - 41s 657us/step - loss: 0.0411 - acc: 0.9874\n",
      "\n",
      "\n",
      "T 9\n",
      "Epoch 1/1\n",
      "63000/63000 [==============================] - 43s 686us/step - loss: 0.0400 - acc: 0.9877\n",
      "\n",
      "\n"
     ]
    }
   ],
   "source": [
    "# losowe przetasowanie zestawu danych\n",
    "x, y = shuffle(cnn_dataset.data, cnn_dataset.target, random_state=13)\n",
    "\n",
    "# podzial zbioru danych na k rownych czesci\n",
    "k = 10\n",
    "split_points = np.linspace(0, cnn_dataset.data.shape[0], k + 1, dtype=int)\n",
    "x_subsets = [x[start:end] for start, end in pairwise(split_points)]\n",
    "y_subsets = [y[start:end] for start, end in pairwise(split_points)]\n",
    "\n",
    "# k-krotna walidacja krzyzowa\n",
    "loss_results = []\n",
    "acc_results = []\n",
    "for idx in range(0,k):\n",
    "    print('T', idx)\n",
    "    result = model.fit(\n",
    "                   np.concatenate(x_subsets[:idx] + x_subsets[idx+1:]),\n",
    "                   np.concatenate(y_subsets[:idx] + y_subsets[idx+1:]),\n",
    "                   epochs = 1,\n",
    "                   batch_size = 128,\n",
    "                   verbose = 1)\n",
    "    \n",
    "    loss_results.append(np.mean(result.history['loss'])) # mean dodana jakby ktos chcial manipulowac liczba epok\n",
    "    acc_results.append(np.mean(result.history['acc']))\n",
    "    print('\\n')\n",
    "    \n",
    "    "
   ]
  },
  {
   "cell_type": "code",
   "execution_count": 26,
   "metadata": {},
   "outputs": [
    {
     "name": "stdout",
     "output_type": "stream",
     "text": [
      "Loss on i-th dataset:\n",
      "T 0 : 0.03998406632262327\n",
      "T 1 : 0.03998406632262327\n",
      "T 2 : 0.03998406632262327\n",
      "T 3 : 0.03998406632262327\n",
      "T 4 : 0.03998406632262327\n",
      "T 5 : 0.03998406632262327\n",
      "T 6 : 0.03998406632262327\n",
      "T 7 : 0.03998406632262327\n",
      "T 8 : 0.03998406632262327\n",
      "T 9 : 0.03998406632262327\n"
     ]
    }
   ],
   "source": [
    "print('Loss on i-th dataset:')\n",
    "datasets = range(0,k)\n",
    "for dataset in datasets:\n",
    "    print('T', dataset, ':', loss_results[dataset])\n",
    "    "
   ]
  },
  {
   "cell_type": "code",
   "execution_count": 27,
   "metadata": {},
   "outputs": [
    {
     "data": {
      "image/png": "[encoded data removed]",
      "text/plain": [
       "<Figure size 432x288 with 1 Axes>"
      ]
     },
     "metadata": {
      "needs_background": "light"
     },
     "output_type": "display_data"
    }
   ],
   "source": [
    "plt.plot(datasets, loss_results, 'go-', label='Training loss')\n",
    "plt.legend()\n",
    "plt.title('Average loss on i-th dataset')\n",
    "plt.xlabel('dataset')\n",
    "plt.ylabel('Loss')\n",
    "plt.grid()"
   ]
  },
  {
   "cell_type": "code",
   "execution_count": null,
   "metadata": {},
   "outputs": [],
   "source": [
    "plt.plot(datasets, acc_results, 'go-', label='Training accuracy')\n",
    "plt.legend()\n",
    "plt.title('Average accuracy on i-th dataset')\n",
    "plt.xlabel('dataset')\n",
    "plt.ylabel('Accuracy')\n",
    "plt.grid()"
   ]
  },
  {
   "cell_type": "code",
   "execution_count": 22,
   "metadata": {},
   "outputs": [
    {
     "name": "stdout",
     "output_type": "stream",
     "text": [
      "Epoch 1/1\n",
      "70000/70000 [==============================] - 46s 659us/step - loss: 0.0370 - acc: 0.9884\n"
     ]
    }
   ],
   "source": [
    "# powtorzenie uczenia na calym zbiorze\n",
    "result = model.fit(cnn_dataset.data, cnn_dataset.target,\n",
    "                   epochs = 1,\n",
    "                   batch_size = 128,\n",
    "                   verbose = 1)"
   ]
  },
  {
   "cell_type": "markdown",
   "metadata": {},
   "source": [
    "## Ewaluacja modelu"
   ]
  },
  {
   "cell_type": "markdown",
   "metadata": {},
   "source": [
    "Zgodnie z treścią algorytmu k-krotnej walidacji krzyżowej przedstawionego w wykładzie, za średnia stratę modelu przyjmujemy średnią arytmetyczną ze strat na i-tym zbiorze uczącym."
   ]
  },
  {
   "cell_type": "code",
   "execution_count": 25,
   "metadata": {},
   "outputs": [
    {
     "name": "stdout",
     "output_type": "stream",
     "text": [
      "Loss of the model:  0.08539108879264917\n"
     ]
    }
   ],
   "source": [
    "loss = np.mean(loss_results)\n",
    "print('Loss of the model: ', loss)"
   ]
  },
  {
   "cell_type": "markdown",
   "metadata": {},
   "source": [
    "## Pojedyncze rozpoznanie "
   ]
  },
  {
   "cell_type": "markdown",
   "metadata": {},
   "source": [
    "Dla ciekawskich istnieje możliwość przetestowania sieci neuronowej na własną rękę poprzez uruchomienie pojedynczego rozpoznania cyfry o dowolnym indeksie (z zakresu od 0 do 69999). W przypadku nauczonej sieci możemy obserwować poprawną klasyfikację. Gdy jednak będziemy chcieli rozpoznać daną próbkę przed procesem uczenia, bardzo możliwe, że otrzymamy od sieci błędną odpowiedź."
   ]
  },
  {
   "cell_type": "code",
   "execution_count": 35,
   "metadata": {},
   "outputs": [
    {
     "name": "stdout",
     "output_type": "stream",
     "text": [
      "Classified digit: 4\n"
     ]
    },
    {
     "data": {
      "image/png": "[encoded data removed]",
      "text/plain": [
       "<Figure size 432x288 with 1 Axes>"
      ]
     },
     "metadata": {
      "needs_background": "light"
     },
     "output_type": "display_data"
    }
   ],
   "source": [
    "sample = 2\n",
    "plt.imshow(np.reshape(cnn_dataset.data[sample], (28,28)), cmap='gray')\n",
    "pred = model.predict(np.reshape(cnn_dataset.data[sample], (1, 28, 28, 1)))\n",
    "print('Classified digit:', pred.argmax())"
   ]
  },
  {
   "cell_type": "markdown",
   "metadata": {},
   "source": [
    "# Drzewo decyzyjne"
   ]
  },
  {
   "cell_type": "markdown",
   "metadata": {
    "pycharm": {
     "metadata": false,
     "name": "#%% md\n"
    }
   },
   "source": [
    "## Przygotowanie danych do procesu uczenia\n",
    "\n",
    "Przygotowanie danych do procesu uczenia rozpoczęliśmy od randomizacji zestawu."
   ]
  },
  {
   "cell_type": "code",
   "execution_count": 5,
   "metadata": {
    "pycharm": {
     "is_executing": false,
     "metadata": false,
     "name": "#%%\n"
    }
   },
   "outputs": [],
   "source": [
    "x, y = shuffle(digits.data, digits.target, random_state=13)"
   ]
  },
  {
   "cell_type": "markdown",
   "metadata": {
    "pycharm": {
     "metadata": false,
     "name": "#%% md\n"
    }
   },
   "source": [
    "Aby podczas procesu walidacji modelu dokonać k-krotnej walidacji krzyżowej, podzieliliśmy zestaw na k podzbiorów."
   ]
  },
  {
   "cell_type": "code",
   "execution_count": 6,
   "metadata": {
    "pycharm": {
     "is_executing": false,
     "metadata": false,
     "name": "#%%\n"
    }
   },
   "outputs": [],
   "source": [
    "k = 5\n",
    "\n",
    "split_points = np.linspace(0, x.shape[0], k + 1, dtype=int)\n",
    "\n",
    "x_subsets = [x[start:end] for start, end in pairwise(split_points)]\n",
    "y_subsets = [y[start:end] for start, end in pairwise(split_points)]"
   ]
  },
  {
   "cell_type": "markdown",
   "metadata": {
    "pycharm": {
     "metadata": false,
     "name": "#%% md\n"
    }
   },
   "source": [
    "## Budowanie modelu"
   ]
  },
  {
   "cell_type": "code",
   "execution_count": 7,
   "metadata": {
    "pycharm": {
     "is_executing": false,
     "metadata": false,
     "name": "#%%\n"
    }
   },
   "outputs": [
    {
     "name": "stdout",
     "output_type": "stream",
     "text": [
      "Avg. fit time: 374.53 s\n"
     ]
    }
   ],
   "source": [
    "classifiers = [None] * k\n",
    "with ProcessPoolExecutor() as executor:\n",
    "    def fit(idx):\n",
    "        classifier = GradientBoostingClassifier(n_estimators=5)\n",
    "        start = time.time()\n",
    "        classifier.fit(\n",
    "            np.concatenate(x_subsets[:idx] + x_subsets[idx+1:]),\n",
    "            np.concatenate(y_subsets[:idx] + y_subsets[idx+1:]),\n",
    "        )\n",
    "        return classifier, (time.time() - start)\n",
    "    \n",
    "    future_to_classifier = {executor.submit(fit, idx): idx for idx in range(k)}\n",
    "    \n",
    "    fit_time_sum = 0\n",
    "    for future in as_completed(future_to_classifier):\n",
    "        idx = future_to_classifier[future]\n",
    "        classifiers[idx], fit_time = future.result()\n",
    "        fit_time_sum += fit_time\n",
    "print(\"Avg. fit time: {:.2f} s\".format(fit_time_sum / k))"
   ]
  },
  {
   "cell_type": "markdown",
   "metadata": {
    "pycharm": {
     "metadata": false,
     "name": "#%% md\n"
    }
   },
   "source": [
    "### Ewaluacja modelu"
   ]
  },
  {
   "cell_type": "code",
   "execution_count": 8,
   "metadata": {
    "pycharm": {
     "is_executing": false,
     "metadata": false,
     "name": "#%%\n"
    }
   },
   "outputs": [
    {
     "name": "stdout",
     "output_type": "stream",
     "text": [
      "              precision    recall  f1-score   support\n",
      "\n",
      "           0       0.84      0.91      0.87      6903\n",
      "           1       0.84      0.93      0.89      7877\n",
      "           2       0.83      0.77      0.80      6990\n",
      "           3       0.74      0.78      0.76      7141\n",
      "           4       0.75      0.82      0.78      6824\n",
      "           5       0.82      0.63      0.71      6313\n",
      "           6       0.90      0.84      0.87      6876\n",
      "           7       0.87      0.75      0.81      7293\n",
      "           8       0.72      0.75      0.74      6825\n",
      "           9       0.71      0.77      0.74      6958\n",
      "\n",
      "   micro avg       0.80      0.80      0.80     70000\n",
      "   macro avg       0.80      0.80      0.80     70000\n",
      "weighted avg       0.80      0.80      0.80     70000\n",
      "\n"
     ]
    }
   ],
   "source": [
    "y_true = y\n",
    "y_pred = np.concatenate([classifier.predict(x_test) for classifier, x_test in zip(classifiers, x_subsets)])\n",
    "print(classification_report(y_true, y_pred))"
   ]
  },
  {
   "cell_type": "markdown",
   "metadata": {
    "pycharm": {
     "metadata": false,
     "name": "#%% md\n"
    }
   },
   "source": [
    "# Podsumowanie"
   ]
  },
  {
   "cell_type": "markdown",
   "metadata": {},
   "source": [
    "Podczas wykonywania projektu mogliśmy przeprowadzić klasyfikację ręcznie pisanych cyfr korzystając z dwóch różnych\n",
    "klasyfikatorów. Podczas testowania działania tworzonych modeli doszliśmy do wniosku, że konwolucyjna sieć neuronowa\n",
    "sprawdza się lepiej w tego typu zadaniach. Wyniki testów popierają to stwierdzenie jasno pokazując, że sieć neuronowa\n",
    "osiąga lepsze wyniki. Praca i uczenie sieci również przebiega szybciej niż uczenie drzewa decyzyjnego.\n",
    "\n",
    "Kolejnym krokiem tego projektu mogłoby być sprawdzenie jak parametry klasyfikatorów wpływają na szybkość uczenia i jakość klasyfikacji."
   ]
  }
 ],
 "metadata": {
  "kernelspec": {
   "display_name": "Python 3",
   "language": "python",
   "name": "python3"
  },
  "language_info": {
   "codemirror_mode": {
    "name": "ipython",
    "version": 3
   },
   "file_extension": ".py",
   "mimetype": "text/x-python",
   "name": "python",
   "nbconvert_exporter": "python",
   "pygments_lexer": "ipython3",
   "version": "3.7.3"
  },
  "pycharm": {
   "stem_cell": {
    "cell_type": "raw",
    "metadata": {
     "collapsed": false
    },
    "source": []
   }
  },
  "stem_cell": {
   "cell_type": "raw",
   "metadata": {
    "pycharm": {
     "metadata": false
    }
   },
   "source": ""
  }
 },
 "nbformat": 4,
 "nbformat_minor": 1
}
