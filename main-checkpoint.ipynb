{
 "cells": [
  {
   "cell_type": "markdown",
   "metadata": {
    "pycharm": {
     "metadata": false
    }
   },
   "source": [
    "# Klasyfikacja ręcznie pisanych cyfr za pomocą CNN oraz Gradient Boosting"
   ]
  },
  {
   "cell_type": "markdown",
   "metadata": {
    "pycharm": {
     "metadata": false,
     "name": "#%% md\n"
    }
   },
   "source": [
    "## Biblioteki oraz zestaw danych"
   ]
  },
  {
   "cell_type": "code",
   "execution_count": 1,
   "metadata": {
    "pycharm": {
     "is_executing": false,
     "name": "#%%\n"
    }
   },
   "outputs": [
    {
     "name": "stderr",
     "output_type": "stream",
     "text": [
      "Using TensorFlow backend.\n"
     ]
    }
   ],
   "source": [
    "from concurrent.futures import ProcessPoolExecutor, as_completed\n",
    "from itertools import tee\n",
    "%matplotlib inline\n",
    "import matplotlib.pyplot as plt                         # Wykresy\n",
    "import numpy as np                                      # Macierze i typy\n",
    "from sklearn import datasets                            # Wczytywanie zestawu danych\n",
    "from sklearn.ensemble import GradientBoostingClassifier # Algorytm gradient boosting\n",
    "from sklearn.metrics import classification_report       # Obliczanie błędu modelu\n",
    "from sklearn.utils import shuffle                       # Randomizowanie zestawu danych\n",
    "\n",
    "# biblioteki do CNN \n",
    "import tensorflow as tf\n",
    "import keras                                            \n",
    "from keras.utils import np_utils\n",
    "\n",
    "# wczytanie zestawu danych MNIST\n",
    "from keras.datasets import mnist\n",
    "\n",
    "# rodzaj modelu\n",
    "from keras.models import Sequential\n",
    "\n",
    "# warstwy sieci neuronowej\n",
    "from keras.layers import Conv2D, MaxPooling2D        \n",
    "from keras.layers import Flatten, Dense, Dropout"
   ]
  },
  {
   "cell_type": "markdown",
   "metadata": {},
   "source": [
    "## Wczytanie danych MNIST"
   ]
  },
  {
   "cell_type": "code",
   "execution_count": 55,
   "metadata": {},
   "outputs": [],
   "source": [
    "(train_img, train_labels), (test_img, test_labels) = mnist.load_data()"
   ]
  },
  {
   "cell_type": "markdown",
   "metadata": {},
   "source": [
    "## Analiza danych"
   ]
  },
  {
   "cell_type": "code",
   "execution_count": 56,
   "metadata": {},
   "outputs": [
    {
     "name": "stdout",
     "output_type": "stream",
     "text": [
      "Zbiór danych MNIST składa się z  70000  instancji.\n"
     ]
    }
   ],
   "source": [
    "print(\"Zbiór danych MNIST składa się z \", train_img.shape[0] + test_img.shape[0], \" instancji.\")"
   ]
  },
  {
   "cell_type": "code",
   "execution_count": 57,
   "metadata": {},
   "outputs": [
    {
     "data": {
      "image/png": "[encoded data removed]",
      "text/plain": [
       "<Figure size 432x288 with 1 Axes>"
      ]
     },
     "metadata": {
      "needs_background": "light"
     },
     "output_type": "display_data"
    }
   ],
   "source": [
    "(classes, elements) = np.unique(train_labels, return_counts=True) # wykrycie ilosci elementow danej klasy\n",
    "plt.title(\"Ilość instancji każdej klasy\")\n",
    "plt.xlabel(\"Klasa\")\n",
    "plt.ylabel(\"Ilość instancji\")\n",
    "_ = plt.bar(classes, elements)"
   ]
  },
  {
   "cell_type": "code",
   "execution_count": 58,
   "metadata": {},
   "outputs": [
    {
     "name": "stdout",
     "output_type": "stream",
     "text": [
      "Każda instancja posiada 784 cech.\n"
     ]
    }
   ],
   "source": [
    "print(\"Każda instancja posiada\", train_img.shape[1] * train_img.shape[1], \"cech.\")"
   ]
  },
  {
   "cell_type": "markdown",
   "metadata": {},
   "source": [
    "Zestaw danych składa się z obrazów 28 x 28 px, przedstawiających ręcznie pisane cyfry. Poniżej zaprezentowana jest pierwsza instancja zestawu."
   ]
  },
  {
   "cell_type": "code",
   "execution_count": 59,
   "metadata": {},
   "outputs": [
    {
     "data": {
      "text/plain": [
       "Text(0.5, 1.0, '5')"
      ]
     },
     "execution_count": 59,
     "metadata": {},
     "output_type": "execute_result"
    },
    {
     "data": {
      "image/png": "[encoded data removed]",
      "text/plain": [
       "<Figure size 432x288 with 1 Axes>"
      ]
     },
     "metadata": {
      "needs_background": "light"
     },
     "output_type": "display_data"
    }
   ],
   "source": [
    "plt.imshow(train_img[0], cmap='gray')\n",
    "plt.title(train_labels[0])"
   ]
  },
  {
   "cell_type": "markdown",
   "metadata": {},
   "source": [
    "## Przygotowanie danych do uczenia"
   ]
  },
  {
   "cell_type": "code",
   "execution_count": 60,
   "metadata": {},
   "outputs": [],
   "source": [
    "# przeksztalcenie danych tak, aby byly przystepne dla modelu\n",
    "# kolejne liczby: 60000, 10000 - rozmiar zb. uczacego, 28x28 - wymiary obrazka, 1 - obraz w skali szarosci\n",
    "\n",
    "train_img = train_img.reshape(60000, 28, 28, 1) \n",
    "test_img = test_img.reshape(10000, 28, 28, 1)    "
   ]
  },
  {
   "cell_type": "code",
   "execution_count": 61,
   "metadata": {},
   "outputs": [],
   "source": [
    "# konwersja do typu 32-bitowego w celu zmniejszenia wymagan pamieciowych\n",
    "train_img = train_img.astype('float32')  \n",
    "test_img = test_img.astype('float32')"
   ]
  },
  {
   "cell_type": "code",
   "execution_count": 62,
   "metadata": {},
   "outputs": [],
   "source": [
    "# normalizacja pikseli obrazkow\n",
    "train_img /= 255\n",
    "test_img /= 255"
   ]
  },
  {
   "cell_type": "code",
   "execution_count": 63,
   "metadata": {},
   "outputs": [
    {
     "name": "stdout",
     "output_type": "stream",
     "text": [
      "Training set:  (60000, 28, 28, 1)\n",
      "Test labels:  (10000, 10)\n",
      "Example instance of an encoded label:  [0. 0. 0. 0. 0. 1. 0. 0. 0. 0.]\n"
     ]
    }
   ],
   "source": [
    "# podzial zbiorow etykiet klas na kategorie, zakodowanie kazdej kategorii za pomoca kodu '1 z N'\n",
    "train_labels = np_utils.to_categorical(train_labels, 10) \n",
    "test_labels = np_utils.to_categorical(test_labels, 10)\n",
    "\n",
    "# wyswietlenie nowych rozmiarow przykladowych \n",
    "print('Training set: ', train_img.shape)\n",
    "print('Test labels: ', test_labels.shape)\n",
    "print('Example instance of an encoded label: ', train_labels[0])"
   ]
  },
  {
   "cell_type": "markdown",
   "metadata": {},
   "source": [
    "# Konwolucyjna sieć neuronowa"
   ]
  },
  {
   "cell_type": "markdown",
   "metadata": {},
   "source": [
    "## Budowa modelu"
   ]
  },
  {
   "cell_type": "code",
   "execution_count": 66,
   "metadata": {},
   "outputs": [],
   "source": [
    "def build_CNN():\n",
    "\n",
    "    # model sekwencyjny, mozliwosc latwego 'stackowania' kolejnych warstw\n",
    "    model = Sequential()\n",
    "    \n",
    "    # pierwsza warstwa splotowa\n",
    "    model.add(Conv2D(32,kernel_size=5,activation='relu',input_shape=(28,28,1)))\n",
    "    \n",
    "    # pierwsza warstwa agregacyjna\n",
    "    model.add(MaxPooling2D(pool_size=(2, 2)))\n",
    "    \n",
    "    # zastosowanie wykluczenia 0.4 w celu zapobiegania przetrenowaniu\n",
    "    model.add(Dropout(0.4))\n",
    "    \n",
    "    # druga warstwa splotowa\n",
    "    model.add(Conv2D(64,kernel_size=5,activation='relu'))\n",
    "    \n",
    "    # druga warstwa agregacyjna\n",
    "    model.add(MaxPooling2D(pool_size=(2, 2)))\n",
    "    \n",
    "    # wykluczenie 0.4\n",
    "    model.add(Dropout(0.4))\n",
    "    \n",
    "    # splaszczenie \n",
    "    model.add(Flatten())\n",
    "    \n",
    "    # warstwa ukryta\n",
    "    model.add(Dense(128, activation='relu'))\n",
    "    \n",
    "    # wykluczenie 0.4 \n",
    "    model.add(Dropout(0.4))\n",
    "    \n",
    "    # warstwa wyjsciowa - 10 neuronow \n",
    "    model.add(Dense(10, activation='softmax'))\n",
    "    \n",
    "    # kompilacja modelu, zdefiniowanie funkcji kosztu jako entropia krzyzowa\n",
    "    model.compile(optimizer='adam', loss='categorical_crossentropy', metrics=['accuracy'])\n",
    "\n",
    "    return model"
   ]
  },
  {
   "cell_type": "markdown",
   "metadata": {},
   "source": [
    "## Utworzenie modelu"
   ]
  },
  {
   "cell_type": "code",
   "execution_count": 67,
   "metadata": {},
   "outputs": [
    {
     "name": "stdout",
     "output_type": "stream",
     "text": [
      "WARNING:tensorflow:From C:\\Users\\rober\\AppData\\Roaming\\Python\\Python37\\site-packages\\keras\\backend\\tensorflow_backend.py:3445: calling dropout (from tensorflow.python.ops.nn_ops) with keep_prob is deprecated and will be removed in a future version.\n",
      "Instructions for updating:\n",
      "Please use `rate` instead of `keep_prob`. Rate should be set to `rate = 1 - keep_prob`.\n",
      "_________________________________________________________________\n",
      "Layer (type)                 Output Shape              Param #   \n",
      "=================================================================\n",
      "conv2d_5 (Conv2D)            (None, 24, 24, 32)        832       \n",
      "_________________________________________________________________\n",
      "max_pooling2d_3 (MaxPooling2 (None, 12, 12, 32)        0         \n",
      "_________________________________________________________________\n",
      "dropout_1 (Dropout)          (None, 12, 12, 32)        0         \n",
      "_________________________________________________________________\n",
      "conv2d_6 (Conv2D)            (None, 8, 8, 64)          51264     \n",
      "_________________________________________________________________\n",
      "max_pooling2d_4 (MaxPooling2 (None, 4, 4, 64)          0         \n",
      "_________________________________________________________________\n",
      "dropout_2 (Dropout)          (None, 4, 4, 64)          0         \n",
      "_________________________________________________________________\n",
      "flatten_2 (Flatten)          (None, 1024)              0         \n",
      "_________________________________________________________________\n",
      "dense_3 (Dense)              (None, 128)               131200    \n",
      "_________________________________________________________________\n",
      "dropout_3 (Dropout)          (None, 128)               0         \n",
      "_________________________________________________________________\n",
      "dense_4 (Dense)              (None, 10)                1290      \n",
      "=================================================================\n",
      "Total params: 184,586\n",
      "Trainable params: 184,586\n",
      "Non-trainable params: 0\n",
      "_________________________________________________________________\n",
      "None\n"
     ]
    }
   ],
   "source": [
    "model = build_CNN() # utworzenie modelu \n",
    "print(model.summary()) # wyswietlenie informacji o modelu"
   ]
  },
  {
   "cell_type": "markdown",
   "metadata": {},
   "source": [
    "## Uczenie sieci"
   ]
  },
  {
   "cell_type": "code",
   "execution_count": 69,
   "metadata": {},
   "outputs": [
    {
     "name": "stdout",
     "output_type": "stream",
     "text": [
      "Train on 60000 samples, validate on 10000 samples\n",
      "Epoch 1/15\n",
      "60000/60000 [==============================] - 65s 1ms/step - loss: 0.3510 - acc: 0.8879 - val_loss: 0.0638 - val_acc: 0.9815\n",
      "Epoch 2/15\n",
      "60000/60000 [==============================] - 64s 1ms/step - loss: 0.1127 - acc: 0.9656 - val_loss: 0.0427 - val_acc: 0.9862\n",
      "Epoch 3/15\n",
      "60000/60000 [==============================] - 68s 1ms/step - loss: 0.0816 - acc: 0.9746 - val_loss: 0.0309 - val_acc: 0.9898\n",
      "Epoch 4/15\n",
      "60000/60000 [==============================] - 69s 1ms/step - loss: 0.0692 - acc: 0.9792 - val_loss: 0.0258 - val_acc: 0.9920\n",
      "Epoch 5/15\n",
      "60000/60000 [==============================] - 67s 1ms/step - loss: 0.0591 - acc: 0.9815 - val_loss: 0.0258 - val_acc: 0.9920\n",
      "Epoch 6/15\n",
      "60000/60000 [==============================] - 67s 1ms/step - loss: 0.0534 - acc: 0.9841 - val_loss: 0.0229 - val_acc: 0.9924\n",
      "Epoch 7/15\n",
      "60000/60000 [==============================] - 67s 1ms/step - loss: 0.0504 - acc: 0.9849 - val_loss: 0.0217 - val_acc: 0.9931\n",
      "Epoch 8/15\n",
      "60000/60000 [==============================] - 64s 1ms/step - loss: 0.0468 - acc: 0.9857 - val_loss: 0.0199 - val_acc: 0.9928\n",
      "Epoch 9/15\n",
      "60000/60000 [==============================] - 66s 1ms/step - loss: 0.0429 - acc: 0.9864 - val_loss: 0.0181 - val_acc: 0.9938\n",
      "Epoch 10/15\n",
      "60000/60000 [==============================] - 69s 1ms/step - loss: 0.0389 - acc: 0.9882 - val_loss: 0.0183 - val_acc: 0.9940\n",
      "Epoch 11/15\n",
      "60000/60000 [==============================] - 69s 1ms/step - loss: 0.0371 - acc: 0.9888 - val_loss: 0.0163 - val_acc: 0.9942\n",
      "Epoch 12/15\n",
      "60000/60000 [==============================] - 66s 1ms/step - loss: 0.0364 - acc: 0.9885 - val_loss: 0.0183 - val_acc: 0.9935\n",
      "Epoch 13/15\n",
      "60000/60000 [==============================] - 67s 1ms/step - loss: 0.0360 - acc: 0.9892 - val_loss: 0.0164 - val_acc: 0.9944\n",
      "Epoch 14/15\n",
      "60000/60000 [==============================] - 67s 1ms/step - loss: 0.0336 - acc: 0.9895 - val_loss: 0.0181 - val_acc: 0.9937\n",
      "Epoch 15/15\n",
      "60000/60000 [==============================] - 67s 1ms/step - loss: 0.0323 - acc: 0.9902 - val_loss: 0.0185 - val_acc: 0.9944\n"
     ]
    }
   ],
   "source": [
    "result = model.fit(train_img, train_labels,\n",
    "                   epochs = 15,\n",
    "                   batch_size = 128,\n",
    "                   verbose = 1,\n",
    "                   validation_data = (test_img, test_labels))"
   ]
  },
  {
   "cell_type": "markdown",
   "metadata": {},
   "source": [
    "## Prezentacja graficzna wyników"
   ]
  },
  {
   "cell_type": "code",
   "execution_count": 70,
   "metadata": {},
   "outputs": [],
   "source": [
    "history = result.history\n",
    "train_acc = history['acc']\n",
    "train_loss = history['loss']\n",
    "val_acc = history['val_acc']\n",
    "val_loss = history['val_loss']\n",
    "\n",
    "epochs = range(1, len(train_acc)+1)"
   ]
  },
  {
   "cell_type": "code",
   "execution_count": 71,
   "metadata": {},
   "outputs": [
    {
     "data": {
      "image/png": "[encoded data removed]",
      "text/plain": [
       "<Figure size 432x288 with 1 Axes>"
      ]
     },
     "metadata": {
      "needs_background": "light"
     },
     "output_type": "display_data"
    }
   ],
   "source": [
    "plt.plot(epochs, train_acc, 'go-', label='Training accuracy')\n",
    "plt.plot(epochs, train_loss, 'r+-', label='Training loss')\n",
    "plt.legend()\n",
    "plt.title('Training loss vs accuracy')\n",
    "plt.xlabel('epochs')\n",
    "plt.ylabel('Loss/Accuracy')\n",
    "plt.grid()"
   ]
  },
  {
   "cell_type": "code",
   "execution_count": 72,
   "metadata": {},
   "outputs": [
    {
     "data": {
      "image/png": "[encoded data removed]",
      "text/plain": [
       "<Figure size 432x288 with 1 Axes>"
      ]
     },
     "metadata": {
      "needs_background": "light"
     },
     "output_type": "display_data"
    }
   ],
   "source": [
    "plt.plot(epochs, val_acc, 'go-', label='Validation accuracy')\n",
    "plt.plot(epochs, val_loss, 'r+-', label='Validation loss')\n",
    "plt.legend()\n",
    "plt.title('Validation loss vs accuracy')\n",
    "plt.xlabel('epochs')\n",
    "plt.ylabel('Loss/Accuracy')\n",
    "plt.grid()"
   ]
  },
  {
   "cell_type": "markdown",
   "metadata": {},
   "source": [
    "## Ewaluacja modelu"
   ]
  },
  {
   "cell_type": "code",
   "execution_count": 73,
   "metadata": {},
   "outputs": [
    {
     "name": "stdout",
     "output_type": "stream",
     "text": [
      "10000/10000 [==============================] - 4s 364us/step\n",
      "Test loss: 0.018475261675527144\n",
      "Test accuracy: 0.9944\n"
     ]
    }
   ],
   "source": [
    "score = model.evaluate(test_img, test_labels, verbose=1)\n",
    "print('Test loss:', score[0])\n",
    "print('Test accuracy:', score[1])"
   ]
  },
  {
   "cell_type": "markdown",
   "metadata": {},
   "source": [
    "## Pojedyncze rozpoznanie "
   ]
  },
  {
   "cell_type": "code",
   "execution_count": 74,
   "metadata": {},
   "outputs": [
    {
     "name": "stdout",
     "output_type": "stream",
     "text": [
      "Classified digit: 5\n"
     ]
    },
    {
     "data": {
      "image/png": "[encoded data removed]",
      "text/plain": [
       "<Figure size 432x288 with 1 Axes>"
      ]
     },
     "metadata": {
      "needs_background": "light"
     },
     "output_type": "display_data"
    }
   ],
   "source": [
    "sample = 7777\n",
    "plt.imshow(test_img[sample].reshape(28,28), cmap='gray')\n",
    "pred = model.predict(test_img[sample].reshape(1, 28, 28, 1))\n",
    "print('Classified digit:', pred.argmax())"
   ]
  },
  {
   "cell_type": "markdown",
   "metadata": {},
   "source": [
    "# Drzewo decyzyjne"
   ]
  },
  {
   "cell_type": "code",
   "execution_count": 22,
   "metadata": {
    "pycharm": {
     "is_executing": false,
     "metadata": false,
     "name": "#%%\n"
    }
   },
   "outputs": [],
   "source": [
    "# TODO: wczytać MNIST, a nie ten uproszczony zbiór\n",
    "digits = datasets.load_digits()"
   ]
  },
  {
   "cell_type": "code",
   "execution_count": 23,
   "metadata": {
    "pycharm": {
     "is_executing": false,
     "metadata": false,
     "name": "#%%\n"
    }
   },
   "outputs": [],
   "source": [
    "def pairwise(iterable):\n",
    "    \"\"\"s -> (s0,s1), (s1,s2), (s2, s3), ...\"\"\"\n",
    "    a, b = tee(iterable)\n",
    "    next(b, None)\n",
    "    return zip(a, b)"
   ]
  },
  {
   "cell_type": "markdown",
   "metadata": {
    "pycharm": {
     "metadata": false,
     "name": "#%% md\n"
    }
   },
   "source": [
    "## Analiza danych"
   ]
  },
  {
   "cell_type": "code",
   "execution_count": 24,
   "metadata": {
    "pycharm": {
     "is_executing": false,
     "metadata": false,
     "name": "#%%\n"
    }
   },
   "outputs": [
    {
     "name": "stdout",
     "output_type": "stream",
     "text": [
      "Zbiór danych składa się z 1797 instancji.\n"
     ]
    }
   ],
   "source": [
    "print(\"Zbiór danych składa się z\", digits.data.shape[0], \"instancji.\")"
   ]
  },
  {
   "cell_type": "code",
   "execution_count": 25,
   "metadata": {
    "pycharm": {
     "is_executing": false,
     "metadata": false,
     "name": "#%%\n"
    }
   },
   "outputs": [
    {
     "data": {
      "image/png": "[encoded data removed]",
      "text/plain": [
       "<Figure size 432x288 with 1 Axes>"
      ]
     },
     "metadata": {
      "needs_background": "light"
     },
     "output_type": "display_data"
    }
   ],
   "source": [
    "plt.title(\"Ilość instancji każdej klasy\")\n",
    "plt.xlabel(\"Klasa\")\n",
    "plt.ylabel(\"Ilość instancji\")\n",
    "_ = plt.hist(digits.target, bins=len(digits.target_names))"
   ]
  },
  {
   "cell_type": "code",
   "execution_count": 26,
   "metadata": {
    "pycharm": {
     "is_executing": false,
     "metadata": false,
     "name": "#%%\n"
    }
   },
   "outputs": [
    {
     "name": "stdout",
     "output_type": "stream",
     "text": [
      "Każda instancja posiada 64 cechy.\n"
     ]
    }
   ],
   "source": [
    "print(\"Każda instancja posiada\", digits.data.shape[1], \"cechy.\")"
   ]
  },
  {
   "cell_type": "markdown",
   "metadata": {
    "pycharm": {
     "metadata": false,
     "name": "#%% md\n"
    }
   },
   "source": [
    "Zestaw danych składa się z obrazów 8 x 8 px, przedstawiających ręcznie pisane cyfry.\n",
    "Poniżej zaprezentowana jest pierwsza instancja zestawu."
   ]
  },
  {
   "cell_type": "code",
   "execution_count": 27,
   "metadata": {
    "pycharm": {
     "is_executing": false,
     "metadata": false,
     "name": "#%%\n"
    }
   },
   "outputs": [
    {
     "data": {
      "image/png": "[encoded data removed]",
      "text/plain": [
       "<Figure size 432x288 with 1 Axes>"
      ]
     },
     "metadata": {
      "needs_background": "light"
     },
     "output_type": "display_data"
    }
   ],
   "source": [
    "plt.title(digits.target[0])\n",
    "_ = plt.imshow(np.reshape(digits.data[0], (8, 8)), cmap='gray')"
   ]
  },
  {
   "cell_type": "markdown",
   "metadata": {
    "pycharm": {
     "metadata": false,
     "name": "#%% md\n"
    }
   },
   "source": [
    "Wg, żródła[^1], większość ludzi preferuje oglądać obrazy rozmazane zamiast obrazów w małej rozdzielczości.\n",
    "W związku z tym, od tego momentu przy wyświetlaniu obrazów posłużymy się interpolacją.\n",
    "\n",
    "[^1]: https://matplotlib.org/users/image_tutorial.html "
   ]
  },
  {
   "cell_type": "code",
   "execution_count": 28,
   "metadata": {
    "pycharm": {
     "is_executing": false,
     "metadata": false,
     "name": "#%%\n"
    }
   },
   "outputs": [
    {
     "data": {
      "image/png": "[encoded data removed]",
      "text/plain": [
       "<Figure size 432x288 with 1 Axes>"
      ]
     },
     "metadata": {
      "needs_background": "light"
     },
     "output_type": "display_data"
    }
   ],
   "source": [
    "plt.title(digits.target[0])\n",
    "_ = plt.imshow(np.reshape(digits.data[0], (8, 8)), cmap='gray', interpolation='bicubic')"
   ]
  },
  {
   "cell_type": "markdown",
   "metadata": {
    "pycharm": {
     "metadata": false,
     "name": "#%% md\n"
    }
   },
   "source": [
    "Aby zapoznać czytelnika z zestawem danych, poniżej prezentujemy jeszcze kilka instancji różnych klas."
   ]
  },
  {
   "cell_type": "code",
   "execution_count": 29,
   "metadata": {
    "pycharm": {
     "is_executing": false,
     "metadata": false,
     "name": "#%%\n"
    }
   },
   "outputs": [
    {
     "data": {
      "image/png": "[encoded data removed]",
      "text/plain": [
       "<Figure size 432x288 with 10 Axes>"
      ]
     },
     "metadata": {
      "needs_background": "light"
     },
     "output_type": "display_data"
    }
   ],
   "source": [
    "for idx in range(0, 10):\n",
    "    instance_no = 10 + idx\n",
    "    plt.subplot(2, 5, 1 + idx)\n",
    "    plt.title(digits.target[instance_no])\n",
    "    _ = plt.imshow(np.reshape(digits.data[instance_no], (8, 8)), cmap='gray', interpolation='bicubic')"
   ]
  },
  {
   "cell_type": "markdown",
   "metadata": {
    "pycharm": {
     "metadata": false,
     "name": "#%% md\n"
    }
   },
   "source": [
    "## Przygotowanie danych do procesu uczenia\n",
    "\n",
    "Przygotowanie danych do procesu uczenia rozpoczęliśmy od randomizacji zestawu."
   ]
  },
  {
   "cell_type": "code",
   "execution_count": 30,
   "metadata": {
    "pycharm": {
     "is_executing": false,
     "metadata": false,
     "name": "#%%\n"
    }
   },
   "outputs": [],
   "source": [
    "x, y = shuffle(digits.data, digits.target, random_state=13)"
   ]
  },
  {
   "cell_type": "markdown",
   "metadata": {
    "pycharm": {
     "metadata": false,
     "name": "#%% md\n"
    }
   },
   "source": [
    "Aby podczas procesu walidacji modelu dokonać k-krotnej walidacji krzyżowej, podzieliliśmy zestaw na k podzbiorów."
   ]
  },
  {
   "cell_type": "code",
   "execution_count": 31,
   "metadata": {
    "pycharm": {
     "is_executing": false,
     "metadata": false,
     "name": "#%%\n"
    }
   },
   "outputs": [],
   "source": [
    "k = 10\n",
    "\n",
    "split_points = np.linspace(0, digits.data.shape[0], k + 1, dtype=int)\n",
    "\n",
    "x_subsets = [x[start:end] for start, end in pairwise(split_points)]\n",
    "y_subsets = [y[start:end] for start, end in pairwise(split_points)]"
   ]
  },
  {
   "cell_type": "markdown",
   "metadata": {
    "pycharm": {
     "metadata": false,
     "name": "#%% md\n"
    }
   },
   "source": [
    "## Budowanie modelu"
   ]
  },
  {
   "cell_type": "code",
   "execution_count": 33,
   "metadata": {
    "pycharm": {
     "is_executing": false,
     "metadata": false,
     "name": "#%%\n"
    }
   },
   "outputs": [
    {
     "ename": "BrokenProcessPool",
     "evalue": "A process in the process pool was terminated abruptly while the future was running or pending.",
     "output_type": "error",
     "traceback": [
      "\u001b[1;31m---------------------------------------------------------------------------\u001b[0m",
      "\u001b[1;31mBrokenProcessPool\u001b[0m                         Traceback (most recent call last)",
      "\u001b[1;32m<ipython-input-33-4c972f577991>\u001b[0m in \u001b[0;36m<module>\u001b[1;34m\u001b[0m\n\u001b[0;32m     14\u001b[0m     \u001b[1;32mfor\u001b[0m \u001b[0mfuture\u001b[0m \u001b[1;32min\u001b[0m \u001b[0mas_completed\u001b[0m\u001b[1;33m(\u001b[0m\u001b[0mfuture_to_classifier\u001b[0m\u001b[1;33m)\u001b[0m\u001b[1;33m:\u001b[0m\u001b[1;33m\u001b[0m\u001b[1;33m\u001b[0m\u001b[0m\n\u001b[0;32m     15\u001b[0m         \u001b[0midx\u001b[0m \u001b[1;33m=\u001b[0m \u001b[0mfuture_to_classifier\u001b[0m\u001b[1;33m[\u001b[0m\u001b[0mfuture\u001b[0m\u001b[1;33m]\u001b[0m\u001b[1;33m\u001b[0m\u001b[1;33m\u001b[0m\u001b[0m\n\u001b[1;32m---> 16\u001b[1;33m         \u001b[0mclassifiers\u001b[0m\u001b[1;33m[\u001b[0m\u001b[0midx\u001b[0m\u001b[1;33m]\u001b[0m \u001b[1;33m=\u001b[0m \u001b[0mfuture\u001b[0m\u001b[1;33m.\u001b[0m\u001b[0mresult\u001b[0m\u001b[1;33m(\u001b[0m\u001b[1;33m)\u001b[0m\u001b[1;33m\u001b[0m\u001b[1;33m\u001b[0m\u001b[0m\n\u001b[0m\u001b[0;32m     17\u001b[0m \u001b[1;33m\u001b[0m\u001b[0m\n",
      "\u001b[1;32mC:\\Program Files\\Python37\\lib\\concurrent\\futures\\_base.py\u001b[0m in \u001b[0;36mresult\u001b[1;34m(self, timeout)\u001b[0m\n\u001b[0;32m    423\u001b[0m                 \u001b[1;32mraise\u001b[0m \u001b[0mCancelledError\u001b[0m\u001b[1;33m(\u001b[0m\u001b[1;33m)\u001b[0m\u001b[1;33m\u001b[0m\u001b[1;33m\u001b[0m\u001b[0m\n\u001b[0;32m    424\u001b[0m             \u001b[1;32melif\u001b[0m \u001b[0mself\u001b[0m\u001b[1;33m.\u001b[0m\u001b[0m_state\u001b[0m \u001b[1;33m==\u001b[0m \u001b[0mFINISHED\u001b[0m\u001b[1;33m:\u001b[0m\u001b[1;33m\u001b[0m\u001b[1;33m\u001b[0m\u001b[0m\n\u001b[1;32m--> 425\u001b[1;33m                 \u001b[1;32mreturn\u001b[0m \u001b[0mself\u001b[0m\u001b[1;33m.\u001b[0m\u001b[0m__get_result\u001b[0m\u001b[1;33m(\u001b[0m\u001b[1;33m)\u001b[0m\u001b[1;33m\u001b[0m\u001b[1;33m\u001b[0m\u001b[0m\n\u001b[0m\u001b[0;32m    426\u001b[0m \u001b[1;33m\u001b[0m\u001b[0m\n\u001b[0;32m    427\u001b[0m             \u001b[0mself\u001b[0m\u001b[1;33m.\u001b[0m\u001b[0m_condition\u001b[0m\u001b[1;33m.\u001b[0m\u001b[0mwait\u001b[0m\u001b[1;33m(\u001b[0m\u001b[0mtimeout\u001b[0m\u001b[1;33m)\u001b[0m\u001b[1;33m\u001b[0m\u001b[1;33m\u001b[0m\u001b[0m\n",
      "\u001b[1;32mC:\\Program Files\\Python37\\lib\\concurrent\\futures\\_base.py\u001b[0m in \u001b[0;36m__get_result\u001b[1;34m(self)\u001b[0m\n\u001b[0;32m    382\u001b[0m     \u001b[1;32mdef\u001b[0m \u001b[0m__get_result\u001b[0m\u001b[1;33m(\u001b[0m\u001b[0mself\u001b[0m\u001b[1;33m)\u001b[0m\u001b[1;33m:\u001b[0m\u001b[1;33m\u001b[0m\u001b[1;33m\u001b[0m\u001b[0m\n\u001b[0;32m    383\u001b[0m         \u001b[1;32mif\u001b[0m \u001b[0mself\u001b[0m\u001b[1;33m.\u001b[0m\u001b[0m_exception\u001b[0m\u001b[1;33m:\u001b[0m\u001b[1;33m\u001b[0m\u001b[1;33m\u001b[0m\u001b[0m\n\u001b[1;32m--> 384\u001b[1;33m             \u001b[1;32mraise\u001b[0m \u001b[0mself\u001b[0m\u001b[1;33m.\u001b[0m\u001b[0m_exception\u001b[0m\u001b[1;33m\u001b[0m\u001b[1;33m\u001b[0m\u001b[0m\n\u001b[0m\u001b[0;32m    385\u001b[0m         \u001b[1;32melse\u001b[0m\u001b[1;33m:\u001b[0m\u001b[1;33m\u001b[0m\u001b[1;33m\u001b[0m\u001b[0m\n\u001b[0;32m    386\u001b[0m             \u001b[1;32mreturn\u001b[0m \u001b[0mself\u001b[0m\u001b[1;33m.\u001b[0m\u001b[0m_result\u001b[0m\u001b[1;33m\u001b[0m\u001b[1;33m\u001b[0m\u001b[0m\n",
      "\u001b[1;31mBrokenProcessPool\u001b[0m: A process in the process pool was terminated abruptly while the future was running or pending."
     ]
    }
   ],
   "source": [
    "classifiers = [None] * k\n",
    "\n",
    "with ProcessPoolExecutor() as executor:\n",
    "    def fit(idx):\n",
    "        classifier = GradientBoostingClassifier()\n",
    "        classifier.fit(\n",
    "            np.concatenate(x_subsets[:idx] + x_subsets[idx+1:]),\n",
    "            np.concatenate(y_subsets[:idx] + y_subsets[idx+1:]),\n",
    "        )\n",
    "        return classifier\n",
    "    \n",
    "    future_to_classifier = {executor.submit(fit, idx): idx for idx in range(k)}\n",
    "    \n",
    "    for future in as_completed(future_to_classifier):\n",
    "        idx = future_to_classifier[future]\n",
    "        classifiers[idx] = future.result()\n",
    "        "
   ]
  },
  {
   "cell_type": "markdown",
   "metadata": {
    "pycharm": {
     "metadata": false,
     "name": "#%% md\n"
    }
   },
   "source": [
    "### Ewaluacja modelu"
   ]
  },
  {
   "cell_type": "code",
   "execution_count": null,
   "metadata": {
    "pycharm": {
     "is_executing": false,
     "metadata": false,
     "name": "#%%\n"
    }
   },
   "outputs": [],
   "source": [
    "y_true = y\n",
    "y_pred = np.concatenate([classifier.predict(x_test) for classifier, x_test in zip(classifiers, x_subsets)])\n",
    "print(classification_report(y_true, y_pred))"
   ]
  },
  {
   "cell_type": "markdown",
   "metadata": {
    "pycharm": {
     "metadata": false,
     "name": "#%% md\n"
    }
   },
   "source": [
    "## Użycie modelu w praktyce"
   ]
  },
  {
   "cell_type": "code",
   "execution_count": 15,
   "metadata": {
    "pycharm": {
     "is_executing": false,
     "metadata": false,
     "name": "#%%\n"
    }
   },
   "outputs": [],
   "source": [
    "classifier = GradientBoostingClassifier()\n",
    "_ = classifier.fit(x, y)"
   ]
  },
  {
   "cell_type": "markdown",
   "metadata": {
    "pycharm": {
     "metadata": false,
     "name": "#%% md\n"
    }
   },
   "source": [
    "## Podsumowanie"
   ]
  }
 ],
 "metadata": {
  "kernelspec": {
   "display_name": "Python 3",
   "language": "python",
   "name": "python3"
  },
  "language_info": {
   "codemirror_mode": {
    "name": "ipython",
    "version": 3
   },
   "file_extension": ".py",
   "mimetype": "text/x-python",
   "name": "python",
   "nbconvert_exporter": "python",
   "pygments_lexer": "ipython3",
   "version": "3.7.3"
  },
  "stem_cell": {
   "cell_type": "raw",
   "metadata": {
    "pycharm": {
     "metadata": false
    }
   },
   "source": ""
  }
 },
 "nbformat": 4,
 "nbformat_minor": 1
}
