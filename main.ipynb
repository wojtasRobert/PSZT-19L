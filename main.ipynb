{
  "cells": [
    {
      "cell_type": "markdown",
      "source": "# Klasyfikacja ręcznie pisanych cyfr za pomocą CNN oraz Gradient Boosting",
      "metadata": {
        "pycharm": {
          "metadata": false
        }
      }
    },
    {
      "cell_type": "markdown",
      "source": "## Biblioteki oraz zestaw danych",
      "metadata": {
        "pycharm": {
          "metadata": false,
          "name": "#%% md\n"
        }
      }
    },
    {
      "cell_type": "code",
      "execution_count": 1,
      "metadata": {
        "collapsed": true,
        "pycharm": {
          "is_executing": false,
          "name": "#%%\n"
        }
      },
      "outputs": [],
      "source": "import matplotlib.pyplot as plt\nimport numpy as np\nfrom matplotlib import pyplot\nfrom sklearn import datasets\nfrom sklearn.ensemble import GradientBoostingRegressor\nfrom sklearn.metrics import mean_squared_error\nfrom sklearn.utils import shuffle\n\n# TODO: wczytać MNIST\ndigits \u003d datasets.load_digits()"
    },
    {
      "cell_type": "markdown",
      "source": "## Analiza danych",
      "metadata": {
        "pycharm": {
          "metadata": false,
          "name": "#%% md\n"
        }
      }
    },
    {
      "cell_type": "code",
      "execution_count": 2,
      "outputs": [
        {
          "name": "stdout",
          "text": [
            "Zbiór danych składa się z 1797 instancji.\n"
          ],
          "output_type": "stream"
        }
      ],
      "source": "print(\"Zbiór danych składa się z\", digits.data.shape[0], \"instancji.\")",
      "metadata": {
        "pycharm": {
          "metadata": false,
          "name": "#%%\n",
          "is_executing": false
        }
      }
    },
    {
      "cell_type": "code",
      "execution_count": 3,
      "outputs": [
        {
          "data": {
            "text/plain": "\u003cFigure size 432x288 with 1 Axes\u003e",
            "image/png": "[encoded data removed]"
          },
          "metadata": {
            "needs_background": "light"
          },
          "output_type": "display_data"
        }
      ],
      "source": "pyplot.title(\"Ilość instancji każdej klasy\")\npyplot.xlabel(\"Klasa\")\npyplot.ylabel(\"Ilość instancji\")\npyplot.hist(digits.target, bins\u003dlen(digits.target_names))\npyplot.show()",
      "metadata": {
        "pycharm": {
          "metadata": false,
          "name": "#%%\n",
          "is_executing": false
        }
      }
    },
    {
      "cell_type": "code",
      "execution_count": 4,
      "outputs": [
        {
          "name": "stdout",
          "text": [
            "Każda instancja posiada 64 cech.\n"
          ],
          "output_type": "stream"
        }
      ],
      "source": "print(\"Każda instancja posiada\", digits.data.shape[1], \"cechy.\")",
      "metadata": {
        "pycharm": {
          "metadata": false,
          "name": "#%%\n",
          "is_executing": false
        }
      }
    },
    {
      "cell_type": "markdown",
      "source": "## Przygotowanie danych do procesu uczenia",
      "metadata": {
        "pycharm": {
          "metadata": false,
          "name": "#%% md\n"
        }
      }
    },
    {
      "cell_type": "code",
      "execution_count": 5,
      "outputs": [],
      "source": "X, y \u003d shuffle(digits.data, digits.target, random_state\u003d13)\nX \u003d X.astype(np.float32)\noffset \u003d int(X.shape[0] * 0.9)\nX_train, y_train \u003d X[:offset], y[:offset]\nX_test, y_test \u003d X[offset:], y[offset:]",
      "metadata": {
        "pycharm": {
          "metadata": false,
          "name": "#%%\n",
          "is_executing": false
        }
      }
    },
    {
      "cell_type": "markdown",
      "source": "## Budowanie modelu",
      "metadata": {
        "pycharm": {
          "metadata": false,
          "name": "#%% md\n"
        }
      }
    },
    {
      "cell_type": "code",
      "execution_count": 6,
      "outputs": [
        {
          "data": {
            "text/plain": "GradientBoostingRegressor(alpha\u003d0.9, criterion\u003d\u0027friedman_mse\u0027, init\u003dNone,\n             learning_rate\u003d0.01, loss\u003d\u0027ls\u0027, max_depth\u003d4, max_features\u003dNone,\n             max_leaf_nodes\u003dNone, min_impurity_decrease\u003d0.0,\n             min_impurity_split\u003dNone, min_samples_leaf\u003d1,\n             min_samples_split\u003d2, min_weight_fraction_leaf\u003d0.0,\n             n_estimators\u003d500, n_iter_no_change\u003dNone, presort\u003d\u0027auto\u0027,\n             random_state\u003dNone, subsample\u003d1.0, tol\u003d0.0001,\n             validation_fraction\u003d0.1, verbose\u003d0, warm_start\u003dFalse)"
          },
          "metadata": {},
          "output_type": "execute_result",
          "execution_count": 6
        }
      ],
      "source": "params \u003d {\u0027n_estimators\u0027: 500, \u0027max_depth\u0027: 4, \u0027min_samples_split\u0027: 2,\n          \u0027learning_rate\u0027: 0.01, \u0027loss\u0027: \u0027ls\u0027}\nclf \u003d GradientBoostingRegressor(**params)\n\nclf.fit(X_train, y_train)",
      "metadata": {
        "pycharm": {
          "metadata": false,
          "name": "#%%\n",
          "is_executing": false
        }
      }
    },
    {
      "cell_type": "markdown",
      "source": "### Ewaluacja modelu",
      "metadata": {
        "pycharm": {
          "metadata": false,
          "name": "#%% md\n"
        }
      }
    },
    {
      "cell_type": "code",
      "execution_count": 7,
      "outputs": [
        {
          "name": "stdout",
          "text": [
            "MSE: 1.4653\n"
          ],
          "output_type": "stream"
        },
        {
          "data": {
            "text/plain": "Text(0, 0.5, \u0027Deviance\u0027)"
          },
          "metadata": {},
          "output_type": "execute_result",
          "execution_count": 7
        },
        {
          "data": {
            "text/plain": "\u003cFigure size 864x432 with 1 Axes\u003e",
            "image/png": "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\u003d\n"
          },
          "metadata": {
            "needs_background": "light"
          },
          "output_type": "display_data"
        }
      ],
      "source": "mse \u003d mean_squared_error(y_test, clf.predict(X_test))\nprint(\"MSE: %.4f\" % mse)\n\ntest_score \u003d np.zeros((params[\u0027n_estimators\u0027],), dtype\u003dnp.float64)\n\nfor i, y_pred in enumerate(clf.staged_predict(X_test)):\n    test_score[i] \u003d clf.loss_(y_test, y_pred)\n\nplt.figure(figsize\u003d(12, 6))\nplt.subplot(1, 2, 1)\nplt.title(\u0027Deviance\u0027)\nplt.plot(np.arange(params[\u0027n_estimators\u0027]) + 1, clf.train_score_, \u0027b-\u0027,\n         label\u003d\u0027Training Set Deviance\u0027)\nplt.plot(np.arange(params[\u0027n_estimators\u0027]) + 1, test_score, \u0027r-\u0027,\n         label\u003d\u0027Test Set Deviance\u0027)\nplt.legend(loc\u003d\u0027upper right\u0027)\nplt.xlabel(\u0027Boosting Iterations\u0027)\nplt.ylabel(\u0027Deviance\u0027)",
      "metadata": {
        "pycharm": {
          "metadata": false,
          "name": "#%%\n",
          "is_executing": false
        }
      }
    },
    {
      "cell_type": "markdown",
      "source": "## Użycie modelu w praktyce",
      "metadata": {
        "pycharm": {
          "metadata": false,
          "name": "#%% md\n"
        }
      }
    },
    {
      "cell_type": "markdown",
      "source": "## Podsumowanie",
      "metadata": {
        "pycharm": {
          "metadata": false,
          "name": "#%% md\n"
        }
      }
    }
  ],
  "metadata": {
    "language_info": {
      "codemirror_mode": {
        "name": "ipython",
        "version": 2
      },
      "file_extension": ".py",
      "mimetype": "text/x-python",
      "name": "python",
      "nbconvert_exporter": "python",
      "pygments_lexer": "ipython2",
      "version": "2.7.6"
    },
    "kernelspec": {
      "name": "python3",
      "language": "python",
      "display_name": "Python 3"
    },
    "stem_cell": {
      "cell_type": "raw",
      "source": "",
      "metadata": {
        "pycharm": {
          "metadata": false
        }
      }
    }
  },
  "nbformat": 4,
  "nbformat_minor": 0
}