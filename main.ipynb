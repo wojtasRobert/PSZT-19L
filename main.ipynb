{
 "cells": [
  {
   "cell_type": "markdown",
   "metadata": {
    "pycharm": {
     "metadata": false
    }
   },
   "source": [
    "# Klasyfikacja ręcznie pisanych cyfr za pomocą CNN oraz Gradient Boosting"
   ]
  },
  {
   "cell_type": "markdown",
   "metadata": {
    "pycharm": {
     "metadata": false,
     "name": "#%% md\n"
    }
   },
   "source": [
    "## Biblioteki oraz zestaw danych"
   ]
  },
  {
   "cell_type": "code",
   "execution_count": 10,
   "metadata": {
    "pycharm": {
     "is_executing": false,
     "name": "#%%\n"
    }
   },
   "outputs": [],
   "source": [
    "from concurrent.futures import ProcessPoolExecutor, as_completed\n",
    "from itertools import tee\n",
    "%matplotlib inline\n",
    "import matplotlib.pyplot as plt                         # Wykresy\n",
    "import numpy as np                                      # Macierze i typy\n",
    "from sklearn import datasets                            # Wczytywanie zestawu danych\n",
    "from sklearn.ensemble import GradientBoostingClassifier # Algorytm gradient boosting\n",
    "from sklearn.metrics import classification_report       # Obliczanie błędu modelu\n",
    "from sklearn.utils import shuffle                       # Randomizowanie zestawu danych\n",
    "\n",
    "# biblioteki do CNN \n",
    "import tensorflow as tf\n",
    "import keras                                            \n",
    "from keras.utils import np_utils\n",
    "\n",
    "# wczytanie zestawu danych MNIST\n",
    "from keras.datasets import mnist\n",
    "\n",
    "# rodzaj modelu\n",
    "from keras.models import Sequential\n",
    "\n",
    "# warstwy sieci neuronowej\n",
    "from keras.layers import Conv2D, MaxPooling2D        \n",
    "from keras.layers import Flatten, Dense, Dropout"
   ]
  },
  {
   "cell_type": "code",
   "execution_count": 2,
   "metadata": {
    "pycharm": {
     "is_executing": false,
     "metadata": false,
     "name": "#%%\n"
    }
   },
   "outputs": [],
   "source": [
    "# TODO: wczytać MNIST, a nie ten uproszczony zbiór\n",
    "digits = datasets.load_digits()"
   ]
  },
  {
   "cell_type": "code",
   "execution_count": 3,
   "metadata": {
    "pycharm": {
     "is_executing": false,
     "metadata": false,
     "name": "#%%\n"
    }
   },
   "outputs": [],
   "source": [
    "def pairwise(iterable):\n",
    "    \"\"\"s -> (s0,s1), (s1,s2), (s2, s3), ...\"\"\"\n",
    "    a, b = tee(iterable)\n",
    "    next(b, None)\n",
    "    return zip(a, b)"
   ]
  },
  {
   "cell_type": "markdown",
   "metadata": {},
   "source": [
    "# Wczytanie danych MNIST"
   ]
  },
  {
   "cell_type": "code",
   "execution_count": 11,
   "metadata": {},
   "outputs": [],
   "source": [
    "(train_img, train_labels), (test_img, test_labels) = mnist.load_data()"
   ]
  },
  {
   "cell_type": "markdown",
   "metadata": {
    "pycharm": {
     "metadata": false,
     "name": "#%% md\n"
    }
   },
   "source": [
    "## Analiza danych MNIST"
   ]
  },
  {
   "cell_type": "code",
   "execution_count": 12,
   "metadata": {},
   "outputs": [
    {
     "name": "stdout",
     "output_type": "stream",
     "text": [
      "Zbiór danych MNIST składa się z  60000  instancji.\n"
     ]
    }
   ],
   "source": [
    "print(\"Zbiór danych MNIST składa się z \", train_img.shape[0], \" instancji.\")"
   ]
  },
  {
   "cell_type": "code",
   "execution_count": 13,
   "metadata": {},
   "outputs": [
    {
     "data": {
      "image/png": "[encoded data removed]",
      "text/plain": [
       "<Figure size 432x288 with 1 Axes>"
      ]
     },
     "metadata": {
      "needs_background": "light"
     },
     "output_type": "display_data"
    }
   ],
   "source": [
    "(classes, elements) = np.unique(train_labels, return_counts=True)\n",
    "plt.title(\"Ilość instancji każdej klasy\")\n",
    "plt.xlabel(\"Klasa\")\n",
    "plt.ylabel(\"Ilość instancji\")\n",
    "_ = plt.bar(classes, elements)"
   ]
  },
  {
   "cell_type": "code",
   "execution_count": 14,
   "metadata": {},
   "outputs": [
    {
     "name": "stdout",
     "output_type": "stream",
     "text": [
      "Każda instancja posiada 784 cech.\n"
     ]
    }
   ],
   "source": [
    "print(\"Każda instancja posiada\", train_img.shape[1] * train_img.shape[1], \"cech.\")"
   ]
  },
  {
   "cell_type": "markdown",
   "metadata": {},
   "source": [
    "Zestaw danych składa się z obrazów 28 x 28 px, przedstawiających ręcznie pisane cyfry. Poniżej zaprezentowana jest pierwsza instancja zestawu."
   ]
  },
  {
   "cell_type": "code",
   "execution_count": 15,
   "metadata": {},
   "outputs": [
    {
     "data": {
      "text/plain": [
       "Text(0.5, 1.0, '5')"
      ]
     },
     "execution_count": 15,
     "metadata": {},
     "output_type": "execute_result"
    },
    {
     "data": {
      "image/png": "[encoded data removed]",
      "text/plain": [
       "<Figure size 432x288 with 1 Axes>"
      ]
     },
     "metadata": {
      "needs_background": "light"
     },
     "output_type": "display_data"
    }
   ],
   "source": [
    "plt.imshow(train_img[0], cmap='gray')\n",
    "plt.title(train_labels[0])"
   ]
  },
  {
   "cell_type": "markdown",
   "metadata": {},
   "source": [
    "## Przygotowanie danych do uczenia"
   ]
  },
  {
   "cell_type": "code",
   "execution_count": 16,
   "metadata": {},
   "outputs": [],
   "source": [
    "train_img = train_img.reshape(60000, 28, 28, 1)\n",
    "test_img = test_img.reshape(10000, 28, 28, 1) "
   ]
  },
  {
   "cell_type": "code",
   "execution_count": 17,
   "metadata": {},
   "outputs": [],
   "source": [
    "train_img = train_img.astype('float32')\n",
    "test_img = test_img.astype('float32')"
   ]
  },
  {
   "cell_type": "code",
   "execution_count": 18,
   "metadata": {},
   "outputs": [],
   "source": [
    "train_img /= 255\n",
    "test_img /= 255"
   ]
  },
  {
   "cell_type": "code",
   "execution_count": 19,
   "metadata": {},
   "outputs": [
    {
     "name": "stdout",
     "output_type": "stream",
     "text": [
      "(60000, 28, 28, 1)\n",
      "(10000, 10)\n",
      "[0. 0. 0. 0. 0. 1. 0. 0. 0. 0.]\n"
     ]
    }
   ],
   "source": [
    "train_labels = np_utils.to_categorical(train_labels, 10) \n",
    "test_labels = np_utils.to_categorical(test_labels, 10)\n",
    "\n",
    "print(train_img.shape)\n",
    "print(test_labels.shape)\n",
    "print(train_labels[0])"
   ]
  },
  {
   "cell_type": "markdown",
   "metadata": {},
   "source": [
    "# Konwolucyjna sieć neuronowa"
   ]
  },
  {
   "cell_type": "markdown",
   "metadata": {},
   "source": [
    "## Budowa modelu"
   ]
  },
  {
   "cell_type": "code",
   "execution_count": 25,
   "metadata": {},
   "outputs": [],
   "source": [
    "def build_CNN():\n",
    "    model = Sequential()\n",
    "    model.add(Conv2D(filters=32, kernel_size=(3, 3), activation='relu', padding='same', input_shape=(28, 28, 1))) \n",
    "    model.add(MaxPooling2D(pool_size=(2, 2)))\n",
    "    model.add(Conv2D(filters=64, kernel_size=(3, 3), activation='relu', padding='same')) \n",
    "    model.add(MaxPooling2D(pool_size=(2, 2)))\n",
    "    model.add(Conv2D(filters=64, kernel_size=(3, 3), activation='relu', padding='same'))\n",
    "    model.add(Flatten())\n",
    "    model.add(Dense(64, activation='relu'))\n",
    "    model.add(Dense(10, activation='softmax'))\n",
    "\n",
    "    model.compile(optimizer='adam', loss='categorical_crossentropy', metrics=['accuracy'])\n",
    "\n",
    "    return model"
   ]
  },
  {
   "cell_type": "markdown",
   "metadata": {},
   "source": [
    "## Utworzenie sieci"
   ]
  },
  {
   "cell_type": "code",
   "execution_count": 27,
   "metadata": {},
   "outputs": [
    {
     "name": "stdout",
     "output_type": "stream",
     "text": [
      "_________________________________________________________________\n",
      "Layer (type)                 Output Shape              Param #   \n",
      "=================================================================\n",
      "conv2d_4 (Conv2D)            (None, 28, 28, 32)        320       \n",
      "_________________________________________________________________\n",
      "max_pooling2d_3 (MaxPooling2 (None, 14, 14, 32)        0         \n",
      "_________________________________________________________________\n",
      "conv2d_5 (Conv2D)            (None, 14, 14, 64)        18496     \n",
      "_________________________________________________________________\n",
      "max_pooling2d_4 (MaxPooling2 (None, 7, 7, 64)          0         \n",
      "_________________________________________________________________\n",
      "conv2d_6 (Conv2D)            (None, 7, 7, 64)          36928     \n",
      "_________________________________________________________________\n",
      "flatten_2 (Flatten)          (None, 3136)              0         \n",
      "_________________________________________________________________\n",
      "dense_3 (Dense)              (None, 64)                200768    \n",
      "_________________________________________________________________\n",
      "dense_4 (Dense)              (None, 10)                650       \n",
      "=================================================================\n",
      "Total params: 257,162\n",
      "Trainable params: 257,162\n",
      "Non-trainable params: 0\n",
      "_________________________________________________________________\n",
      "None\n"
     ]
    }
   ],
   "source": [
    "model = build_CNN()\n",
    "print(model.summary())"
   ]
  },
  {
   "cell_type": "markdown",
   "metadata": {},
   "source": [
    "## Uczenie sieci"
   ]
  },
  {
   "cell_type": "code",
   "execution_count": 29,
   "metadata": {},
   "outputs": [
    {
     "name": "stdout",
     "output_type": "stream",
     "text": [
      "WARNING:tensorflow:From /home/robert/.local/lib/python3.6/site-packages/tensorflow/python/ops/math_ops.py:3066: to_int32 (from tensorflow.python.ops.math_ops) is deprecated and will be removed in a future version.\n",
      "Instructions for updating:\n",
      "Use tf.cast instead.\n",
      "Train on 60000 samples, validate on 10000 samples\n",
      "Epoch 1/15\n",
      "60000/60000 [==============================] - 58s 970us/step - loss: 0.1942 - acc: 0.9394 - val_loss: 0.0716 - val_acc: 0.9763\n",
      "Epoch 2/15\n",
      "60000/60000 [==============================] - 56s 934us/step - loss: 0.0494 - acc: 0.9851 - val_loss: 0.0351 - val_acc: 0.9892\n",
      "Epoch 3/15\n",
      "60000/60000 [==============================] - 56s 935us/step - loss: 0.0338 - acc: 0.9895 - val_loss: 0.0363 - val_acc: 0.9875\n",
      "Epoch 4/15\n",
      "60000/60000 [==============================] - 56s 937us/step - loss: 0.0258 - acc: 0.9918 - val_loss: 0.0321 - val_acc: 0.9898\n",
      "Epoch 5/15\n",
      "60000/60000 [==============================] - 57s 948us/step - loss: 0.0220 - acc: 0.9932 - val_loss: 0.0262 - val_acc: 0.9912\n",
      "Epoch 6/15\n",
      "60000/60000 [==============================] - 56s 938us/step - loss: 0.0156 - acc: 0.9952 - val_loss: 0.0288 - val_acc: 0.9901\n",
      "Epoch 7/15\n",
      "60000/60000 [==============================] - 56s 941us/step - loss: 0.0148 - acc: 0.9954 - val_loss: 0.0277 - val_acc: 0.9914\n",
      "Epoch 8/15\n",
      "60000/60000 [==============================] - 57s 950us/step - loss: 0.0106 - acc: 0.9966 - val_loss: 0.0337 - val_acc: 0.9905\n",
      "Epoch 9/15\n",
      "60000/60000 [==============================] - 58s 961us/step - loss: 0.0094 - acc: 0.9971 - val_loss: 0.0358 - val_acc: 0.9907\n",
      "Epoch 10/15\n",
      "60000/60000 [==============================] - 58s 960us/step - loss: 0.0095 - acc: 0.9971 - val_loss: 0.0248 - val_acc: 0.9924\n",
      "Epoch 11/15\n",
      "60000/60000 [==============================] - 57s 946us/step - loss: 0.0082 - acc: 0.9972 - val_loss: 0.0321 - val_acc: 0.9915\n",
      "Epoch 12/15\n",
      "60000/60000 [==============================] - 60s 993us/step - loss: 0.0066 - acc: 0.9979 - val_loss: 0.0349 - val_acc: 0.9904\n",
      "Epoch 13/15\n",
      "60000/60000 [==============================] - 57s 954us/step - loss: 0.0073 - acc: 0.9978 - val_loss: 0.0280 - val_acc: 0.9915\n",
      "Epoch 14/15\n",
      "60000/60000 [==============================] - 57s 953us/step - loss: 0.0065 - acc: 0.9978 - val_loss: 0.0323 - val_acc: 0.9915\n",
      "Epoch 15/15\n",
      "60000/60000 [==============================] - 57s 953us/step - loss: 0.0055 - acc: 0.9980 - val_loss: 0.0354 - val_acc: 0.9913\n"
     ]
    }
   ],
   "source": [
    "result = model.fit(train_img, train_labels,\n",
    "                   epochs = 15,\n",
    "                   batch_size = 128,\n",
    "                   verbose = 1,\n",
    "                   validation_data = (test_img, test_labels))"
   ]
  },
  {
   "cell_type": "markdown",
   "metadata": {},
   "source": [
    "## Prezentacja graficzna wyników"
   ]
  },
  {
   "cell_type": "code",
   "execution_count": 36,
   "metadata": {},
   "outputs": [],
   "source": [
    "history = result.history\n",
    "train_acc = history['acc']\n",
    "train_loss = history['loss']\n",
    "val_acc = history['val_acc']\n",
    "val_loss = history['val_loss']\n",
    "\n",
    "epochs = range(1, len(train_acc)+1)"
   ]
  },
  {
   "cell_type": "code",
   "execution_count": 40,
   "metadata": {},
   "outputs": [
    {
     "data": {
      "image/png": "[encoded data removed]",
      "text/plain": [
       "<Figure size 432x288 with 1 Axes>"
      ]
     },
     "metadata": {
      "needs_background": "light"
     },
     "output_type": "display_data"
    }
   ],
   "source": [
    "plt.plot(epochs, train_acc, 'go-', label='Training accuracy')\n",
    "plt.plot(epochs, train_loss, 'r+-', label='Training loss')\n",
    "plt.legend()\n",
    "plt.title('Training loss vs accuracy')\n",
    "plt.xlabel('epochs')\n",
    "plt.ylabel('Loss/Accuracy')\n",
    "plt.grid()"
   ]
  },
  {
   "cell_type": "code",
   "execution_count": 41,
   "metadata": {},
   "outputs": [
    {
     "data": {
      "image/png": "[encoded data removed]",
      "text/plain": [
       "<Figure size 432x288 with 1 Axes>"
      ]
     },
     "metadata": {
      "needs_background": "light"
     },
     "output_type": "display_data"
    }
   ],
   "source": [
    "plt.plot(epochs, val_acc, 'go-', label='Validation accuracy')\n",
    "plt.plot(epochs, val_loss, 'r+-', label='Validation loss')\n",
    "plt.legend()\n",
    "plt.title('Validation loss vs accuracy')\n",
    "plt.xlabel('epochs')\n",
    "plt.ylabel('Loss/Accuracy')\n",
    "plt.grid()"
   ]
  },
  {
   "cell_type": "markdown",
   "metadata": {},
   "source": [
    "## Ewaluacja modelu"
   ]
  },
  {
   "cell_type": "code",
   "execution_count": 44,
   "metadata": {},
   "outputs": [
    {
     "name": "stdout",
     "output_type": "stream",
     "text": [
      "10000/10000 [==============================] - 2s 193us/step\n",
      "Test loss: 0.03542381918878805\n",
      "Test accuracy: 0.9913\n"
     ]
    }
   ],
   "source": [
    "score = model.evaluate(test_img, test_labels, verbose=1)\n",
    "print('Test loss:', score[0])\n",
    "print('Test accuracy:', score[1])"
   ]
  },
  {
   "cell_type": "markdown",
   "metadata": {},
   "source": [
    "# Od tego miejsca w dół nie ruszałem ;P"
   ]
  },
  {
   "cell_type": "markdown",
   "metadata": {},
   "source": [
    "## Analiza danych"
   ]
  },
  {
   "cell_type": "code",
   "execution_count": 19,
   "metadata": {
    "pycharm": {
     "is_executing": false,
     "metadata": false,
     "name": "#%%\n"
    }
   },
   "outputs": [
    {
     "name": "stdout",
     "output_type": "stream",
     "text": [
      "Zbiór danych składa się z 1797 instancji.\n"
     ]
    }
   ],
   "source": [
    "print(\"Zbiór danych składa się z\", digits.data.shape[0], \"instancji.\")"
   ]
  },
  {
   "cell_type": "code",
   "execution_count": 18,
   "metadata": {
    "pycharm": {
     "is_executing": false,
     "metadata": false,
     "name": "#%%\n"
    }
   },
   "outputs": [
    {
     "data": {
      "image/png": "[encoded data removed]",
      "text/plain": [
       "<Figure size 432x288 with 1 Axes>"
      ]
     },
     "metadata": {
      "needs_background": "light"
     },
     "output_type": "display_data"
    }
   ],
   "source": [
    "plt.title(\"Ilość instancji każdej klasy\")\n",
    "plt.xlabel(\"Klasa\")\n",
    "plt.ylabel(\"Ilość instancji\")\n",
    "_ = plt.hist(digits.target, bins=len(digits.target_names))"
   ]
  },
  {
   "cell_type": "code",
   "execution_count": 6,
   "metadata": {
    "pycharm": {
     "is_executing": false,
     "metadata": false,
     "name": "#%%\n"
    }
   },
   "outputs": [
    {
     "name": "stdout",
     "output_type": "stream",
     "text": [
      "Każda instancja posiada 64 cechy.\n"
     ]
    }
   ],
   "source": [
    "print(\"Każda instancja posiada\", digits.data.shape[1], \"cechy.\")"
   ]
  },
  {
   "cell_type": "markdown",
   "metadata": {
    "pycharm": {
     "metadata": false,
     "name": "#%% md\n"
    }
   },
   "source": [
    "Zestaw danych składa się z obrazów 8 x 8 px, przedstawiających ręcznie pisane cyfry.\n",
    "Poniżej zaprezentowana jest pierwsza instancja zestawu."
   ]
  },
  {
   "cell_type": "code",
   "execution_count": 7,
   "metadata": {
    "pycharm": {
     "is_executing": false,
     "metadata": false,
     "name": "#%%\n"
    }
   },
   "outputs": [
    {
     "data": {
      "image/png": "[encoded data removed]",
      "text/plain": [
       "<Figure size 432x288 with 1 Axes>"
      ]
     },
     "metadata": {
      "needs_background": "light"
     },
     "output_type": "display_data"
    }
   ],
   "source": [
    "plt.title(digits.target[0])\n",
    "_ = plt.imshow(np.reshape(digits.data[0], (8, 8)), cmap='gray')"
   ]
  },
  {
   "cell_type": "markdown",
   "metadata": {
    "pycharm": {
     "metadata": false,
     "name": "#%% md\n"
    }
   },
   "source": [
    "Wg, żródła[^1], większość ludzi preferuje oglądać obrazy rozmazane zamiast obrazów w małej rozdzielczości.\n",
    "W związku z tym, od tego momentu przy wyświetlaniu obrazów posłużymy się interpolacją.\n",
    "\n",
    "[^1]: https://matplotlib.org/users/image_tutorial.html "
   ]
  },
  {
   "cell_type": "code",
   "execution_count": 8,
   "metadata": {
    "pycharm": {
     "is_executing": false,
     "metadata": false,
     "name": "#%%\n"
    }
   },
   "outputs": [
    {
     "data": {
      "image/png": "[encoded data removed]",
      "text/plain": [
       "<Figure size 432x288 with 1 Axes>"
      ]
     },
     "metadata": {
      "needs_background": "light"
     },
     "output_type": "display_data"
    }
   ],
   "source": [
    "plt.title(digits.target[0])\n",
    "_ = plt.imshow(np.reshape(digits.data[0], (8, 8)), cmap='gray', interpolation='bicubic')"
   ]
  },
  {
   "cell_type": "markdown",
   "metadata": {
    "pycharm": {
     "metadata": false,
     "name": "#%% md\n"
    }
   },
   "source": [
    "Aby zapoznać czytelnika z zestawem danych, poniżej prezentujemy jeszcze kilka instancji różnych klas."
   ]
  },
  {
   "cell_type": "code",
   "execution_count": 9,
   "metadata": {
    "pycharm": {
     "is_executing": false,
     "metadata": false,
     "name": "#%%\n"
    }
   },
   "outputs": [
    {
     "data": {
      "image/png": "[encoded data removed]",
      "text/plain": [
       "<Figure size 432x288 with 10 Axes>"
      ]
     },
     "metadata": {
      "needs_background": "light"
     },
     "output_type": "display_data"
    }
   ],
   "source": [
    "for idx in range(0, 10):\n",
    "    instance_no = 10 + idx\n",
    "    plt.subplot(2, 5, 1 + idx)\n",
    "    plt.title(digits.target[instance_no])\n",
    "    _ = plt.imshow(np.reshape(digits.data[instance_no], (8, 8)), cmap='gray', interpolation='bicubic')"
   ]
  },
  {
   "cell_type": "markdown",
   "metadata": {
    "pycharm": {
     "metadata": false,
     "name": "#%% md\n"
    }
   },
   "source": [
    "## Przygotowanie danych do procesu uczenia\n",
    "\n",
    "Przygotowanie danych do procesu uczenia rozpoczęliśmy od randomizacji zestawu."
   ]
  },
  {
   "cell_type": "code",
   "execution_count": 10,
   "metadata": {
    "pycharm": {
     "is_executing": false,
     "metadata": false,
     "name": "#%%\n"
    }
   },
   "outputs": [],
   "source": [
    "x, y = shuffle(digits.data, digits.target, random_state=13)"
   ]
  },
  {
   "cell_type": "markdown",
   "metadata": {
    "pycharm": {
     "metadata": false,
     "name": "#%% md\n"
    }
   },
   "source": [
    "Aby podczas procesu walidacji modelu dokonać k-krotnej walidacji krzyżowej, podzieliliśmy zestaw na k podzbiorów."
   ]
  },
  {
   "cell_type": "code",
   "execution_count": 11,
   "metadata": {
    "pycharm": {
     "is_executing": false,
     "metadata": false,
     "name": "#%%\n"
    }
   },
   "outputs": [],
   "source": [
    "k = 10\n",
    "\n",
    "split_points = np.linspace(0, digits.data.shape[0], k + 1, dtype=int)\n",
    "\n",
    "x_subsets = [x[start:end] for start, end in pairwise(split_points)]\n",
    "y_subsets = [y[start:end] for start, end in pairwise(split_points)]"
   ]
  },
  {
   "cell_type": "markdown",
   "metadata": {},
   "source": [
    "# Drzewo decyzyjne"
   ]
  },
  {
   "cell_type": "markdown",
   "metadata": {
    "pycharm": {
     "metadata": false,
     "name": "#%% md\n"
    }
   },
   "source": [
    "## Budowanie modelu"
   ]
  },
  {
   "cell_type": "code",
   "execution_count": 12,
   "metadata": {
    "pycharm": {
     "is_executing": false,
     "metadata": false,
     "name": "#%%\n"
    }
   },
   "outputs": [],
   "source": [
    "classifiers = [None] * k\n",
    "\n",
    "with ProcessPoolExecutor() as executor:\n",
    "    def fit(idx):\n",
    "        classifier = GradientBoostingClassifier()\n",
    "        classifier.fit(\n",
    "            np.concatenate(x_subsets[:idx] + x_subsets[idx+1:]),\n",
    "            np.concatenate(y_subsets[:idx] + y_subsets[idx+1:]),\n",
    "        )\n",
    "        return classifier\n",
    "    \n",
    "    future_to_classifier = {executor.submit(fit, idx): idx for idx in range(k)}\n",
    "    \n",
    "    for future in as_completed(future_to_classifier):\n",
    "        idx = future_to_classifier[future]\n",
    "        classifiers[idx] = future.result()\n",
    "        "
   ]
  },
  {
   "cell_type": "markdown",
   "metadata": {
    "pycharm": {
     "metadata": false,
     "name": "#%% md\n"
    }
   },
   "source": [
    "### Ewaluacja modelu"
   ]
  },
  {
   "cell_type": "code",
   "execution_count": 13,
   "metadata": {
    "pycharm": {
     "is_executing": false,
     "metadata": false,
     "name": "#%%\n"
    }
   },
   "outputs": [
    {
     "name": "stdout",
     "output_type": "stream",
     "text": [
      "              precision    recall  f1-score   support\n",
      "\n",
      "           0       0.98      0.97      0.98       178\n",
      "           1       0.95      0.98      0.96       182\n",
      "           2       0.99      0.97      0.98       177\n",
      "           3       0.99      0.94      0.96       183\n",
      "           4       0.99      0.98      0.99       181\n",
      "           5       0.97      0.95      0.96       182\n",
      "           6       0.99      0.97      0.98       181\n",
      "           7       0.97      0.98      0.97       179\n",
      "           8       0.90      0.98      0.94       174\n",
      "           9       0.93      0.95      0.94       180\n",
      "\n",
      "   micro avg       0.97      0.97      0.97      1797\n",
      "   macro avg       0.97      0.97      0.97      1797\n",
      "weighted avg       0.97      0.97      0.97      1797\n",
      "\n"
     ]
    }
   ],
   "source": [
    "y_true = y\n",
    "y_pred = np.concatenate([classifier.predict(x_test) for classifier, x_test in zip(classifiers, x_subsets)])\n",
    "print(classification_report(y_true, y_pred))"
   ]
  },
  {
   "cell_type": "markdown",
   "metadata": {
    "pycharm": {
     "metadata": false,
     "name": "#%% md\n"
    }
   },
   "source": [
    "## Użycie modelu w praktyce"
   ]
  },
  {
   "cell_type": "code",
   "execution_count": 15,
   "metadata": {
    "pycharm": {
     "is_executing": false,
     "metadata": false,
     "name": "#%%\n"
    }
   },
   "outputs": [],
   "source": [
    "classifier = GradientBoostingClassifier()\n",
    "_ = classifier.fit(x, y)"
   ]
  },
  {
   "cell_type": "markdown",
   "metadata": {
    "pycharm": {
     "metadata": false,
     "name": "#%% md\n"
    }
   },
   "source": [
    "## Podsumowanie"
   ]
  }
 ],
 "metadata": {
  "kernelspec": {
   "display_name": "Python 3",
   "language": "python",
   "name": "python3"
  },
  "language_info": {
   "codemirror_mode": {
    "name": "ipython",
    "version": 3
   },
   "file_extension": ".py",
   "mimetype": "text/x-python",
   "name": "python",
   "nbconvert_exporter": "python",
   "pygments_lexer": "ipython3",
   "version": "3.6.7"
  },
  "stem_cell": {
   "cell_type": "raw",
   "metadata": {
    "pycharm": {
     "metadata": false
    }
   },
   "source": ""
  },
  "pycharm": {
   "stem_cell": {
    "cell_type": "raw",
    "source": [],
    "metadata": {
     "collapsed": false
    }
   }
  }
 },
 "nbformat": 4,
 "nbformat_minor": 1
}