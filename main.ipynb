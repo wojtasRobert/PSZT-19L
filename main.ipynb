{
  "cells": [
    {
      "cell_type": "code",
      "execution_count": 1,
      "metadata": {
        "collapsed": true,
        "pycharm": {
          "is_executing": false,
          "name": "#%%\n"
        }
      },
      "outputs": [],
      "source": "import matplotlib.pyplot as plt\nimport numpy as np\nfrom matplotlib import pyplot\nfrom sklearn import datasets\nfrom sklearn.ensemble import GradientBoostingRegressor\nfrom sklearn.metrics import mean_squared_error\nfrom sklearn.utils import shuffle"
    },
    {
      "cell_type": "code",
      "execution_count": 2,
      "outputs": [],
      "source": "# TODO: wczytać MNIST\ndigits \u003d datasets.load_digits()",
      "metadata": {
        "pycharm": {
          "metadata": false,
          "name": "#%%\n",
          "is_executing": false
        }
      }
    },
    {
      "cell_type": "code",
      "execution_count": 3,
      "outputs": [
        {
          "name": "stdout",
          "text": [
            "Zbiór danych składa się z 1797 instancji.\n"
          ],
          "output_type": "stream"
        }
      ],
      "source": "print(\"Zbiór danych składa się z\", digits.data.shape[0], \"instancji.\")",
      "metadata": {
        "pycharm": {
          "metadata": false,
          "name": "#%%\n",
          "is_executing": false
        }
      }
    },
    {
      "cell_type": "code",
      "execution_count": 4,
      "outputs": [
        {
          "data": {
            "text/plain": "\u003cFigure size 432x288 with 1 Axes\u003e",
            "image/png": "[encoded data removed]"
          },
          "metadata": {
            "needs_background": "light"
          },
          "output_type": "display_data"
        }
      ],
      "source": "pyplot.title(\"Ilość instancji każdej klasy\")\npyplot.xlabel(\"Klasa\")\npyplot.ylabel(\"Ilość instancji\")\npyplot.hist(digits.target, bins\u003dlen(digits.target_names))\npyplot.show()",
      "metadata": {
        "pycharm": {
          "metadata": false,
          "name": "#%%\n",
          "is_executing": false
        }
      }
    },
    {
      "cell_type": "code",
      "execution_count": 5,
      "outputs": [
        {
          "name": "stdout",
          "text": [
            "Każda instancja posiada 64 cech.\n"
          ],
          "output_type": "stream"
        }
      ],
      "source": "print(\"Każda instancja posiada\", digits.data.shape[1], \"cech.\")",
      "metadata": {
        "pycharm": {
          "metadata": false,
          "name": "#%%\n",
          "is_executing": false
        }
      }
    },
    {
      "cell_type": "code",
      "execution_count": 6,
      "outputs": [],
      "source": "X, y \u003d shuffle(digits.data, digits.target, random_state\u003d13)\nX \u003d X.astype(np.float32)\noffset \u003d int(X.shape[0] * 0.9)\nX_train, y_train \u003d X[:offset], y[:offset]\nX_test, y_test \u003d X[offset:], y[offset:]",
      "metadata": {
        "pycharm": {
          "metadata": false,
          "name": "#%%\n",
          "is_executing": false
        }
      }
    },
    {
      "cell_type": "code",
      "execution_count": 7,
      "outputs": [
        {
          "name": "stdout",
          "text": [
            "MSE: 1.4689\n"
          ],
          "output_type": "stream"
        }
      ],
      "source": "params \u003d {\u0027n_estimators\u0027: 500, \u0027max_depth\u0027: 4, \u0027min_samples_split\u0027: 2,\n          \u0027learning_rate\u0027: 0.01, \u0027loss\u0027: \u0027ls\u0027}\nclf \u003d GradientBoostingRegressor(**params)\n\nclf.fit(X_train, y_train)\nmse \u003d mean_squared_error(y_test, clf.predict(X_test))\nprint(\"MSE: %.4f\" % mse)\n",
      "metadata": {
        "pycharm": {
          "metadata": false,
          "name": "#%%\n",
          "is_executing": false
        }
      }
    },
    {
      "cell_type": "code",
      "execution_count": 8,
      "outputs": [
        {
          "data": {
            "text/plain": "Text(0, 0.5, \u0027Deviance\u0027)"
          },
          "metadata": {},
          "output_type": "execute_result",
          "execution_count": 8
        },
        {
          "data": {
            "text/plain": "\u003cFigure size 864x432 with 1 Axes\u003e",
            "image/png": "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\u003d\u003d\n"
          },
          "metadata": {
            "needs_background": "light"
          },
          "output_type": "display_data"
        }
      ],
      "source": "test_score \u003d np.zeros((params[\u0027n_estimators\u0027],), dtype\u003dnp.float64)\n\nfor i, y_pred in enumerate(clf.staged_predict(X_test)):\n    test_score[i] \u003d clf.loss_(y_test, y_pred)\n\nplt.figure(figsize\u003d(12, 6))\nplt.subplot(1, 2, 1)\nplt.title(\u0027Deviance\u0027)\nplt.plot(np.arange(params[\u0027n_estimators\u0027]) + 1, clf.train_score_, \u0027b-\u0027,\n         label\u003d\u0027Training Set Deviance\u0027)\nplt.plot(np.arange(params[\u0027n_estimators\u0027]) + 1, test_score, \u0027r-\u0027,\n         label\u003d\u0027Test Set Deviance\u0027)\nplt.legend(loc\u003d\u0027upper right\u0027)\nplt.xlabel(\u0027Boosting Iterations\u0027)\nplt.ylabel(\u0027Deviance\u0027)\n",
      "metadata": {
        "pycharm": {
          "metadata": false,
          "name": "#%%\n",
          "is_executing": false
        }
      }
    }
  ],
  "metadata": {
    "language_info": {
      "codemirror_mode": {
        "name": "ipython",
        "version": 2
      },
      "file_extension": ".py",
      "mimetype": "text/x-python",
      "name": "python",
      "nbconvert_exporter": "python",
      "pygments_lexer": "ipython2",
      "version": "2.7.6"
    },
    "kernelspec": {
      "name": "python3",
      "language": "python",
      "display_name": "Python 3"
    },
    "stem_cell": {
      "cell_type": "raw",
      "source": "",
      "metadata": {
        "pycharm": {
          "metadata": false
        }
      }
    }
  },
  "nbformat": 4,
  "nbformat_minor": 0
}